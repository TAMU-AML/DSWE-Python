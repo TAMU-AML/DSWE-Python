{
 "cells": [
  {
   "cell_type": "code",
   "execution_count": 1,
   "metadata": {},
   "outputs": [],
   "source": [
    "import numpy as np\n",
    "import pandas as pd\n",
    "from statsmodels.tsa import stattools as ts\n",
    "from sklearn.neighbors import KernelDensity\n",
    "import matplotlib.pyplot as plt\n",
    "\n",
    "from dswe.covmatch import CovMatch\n",
    "from dswe.funGP import FunGP"
   ]
  },
  {
   "cell_type": "code",
   "execution_count": 2,
   "metadata": {},
   "outputs": [],
   "source": [
    "data1 = pd.read_csv('../../Downloads/DS/J77_Data&Code/Dataset3_1.csv')\n",
    "data2 = pd.read_csv('../../Downloads/DS/J77_Data&Code/Dataset3_2.csv')"
   ]
  },
  {
   "cell_type": "code",
   "execution_count": 3,
   "metadata": {},
   "outputs": [
    {
     "data": {
      "text/html": [
       "<div>\n",
       "<style scoped>\n",
       "    .dataframe tbody tr th:only-of-type {\n",
       "        vertical-align: middle;\n",
       "    }\n",
       "\n",
       "    .dataframe tbody tr th {\n",
       "        vertical-align: top;\n",
       "    }\n",
       "\n",
       "    .dataframe thead th {\n",
       "        text-align: right;\n",
       "    }\n",
       "</style>\n",
       "<table border=\"1\" class=\"dataframe\">\n",
       "  <thead>\n",
       "    <tr style=\"text-align: right;\">\n",
       "      <th></th>\n",
       "      <th>time_stamp</th>\n",
       "      <th>wind_speed</th>\n",
       "      <th>wind_direction</th>\n",
       "      <th>ambient_temp</th>\n",
       "      <th>terrain</th>\n",
       "      <th>active_power</th>\n",
       "      <th>sd_wd</th>\n",
       "      <th>turbulence_intensity</th>\n",
       "    </tr>\n",
       "  </thead>\n",
       "  <tbody>\n",
       "    <tr>\n",
       "      <th>0</th>\n",
       "      <td>2016-07-31 00:00:00</td>\n",
       "      <td>4.586207</td>\n",
       "      <td>59.715545</td>\n",
       "      <td>25.969540</td>\n",
       "      <td>3</td>\n",
       "      <td>0.112002</td>\n",
       "      <td>108.846109</td>\n",
       "      <td>0.106724</td>\n",
       "    </tr>\n",
       "    <tr>\n",
       "      <th>1</th>\n",
       "      <td>2016-07-31 00:10:00</td>\n",
       "      <td>3.486333</td>\n",
       "      <td>359.858832</td>\n",
       "      <td>25.004333</td>\n",
       "      <td>3</td>\n",
       "      <td>0.045543</td>\n",
       "      <td>0.000000</td>\n",
       "      <td>0.076046</td>\n",
       "    </tr>\n",
       "    <tr>\n",
       "      <th>2</th>\n",
       "      <td>2016-07-31 00:20:00</td>\n",
       "      <td>5.144889</td>\n",
       "      <td>359.858832</td>\n",
       "      <td>25.009889</td>\n",
       "      <td>3</td>\n",
       "      <td>0.130746</td>\n",
       "      <td>0.000000</td>\n",
       "      <td>0.101187</td>\n",
       "    </tr>\n",
       "    <tr>\n",
       "      <th>3</th>\n",
       "      <td>2016-07-31 00:30:00</td>\n",
       "      <td>5.510444</td>\n",
       "      <td>359.858832</td>\n",
       "      <td>24.934778</td>\n",
       "      <td>3</td>\n",
       "      <td>0.167040</td>\n",
       "      <td>0.000000</td>\n",
       "      <td>0.070249</td>\n",
       "    </tr>\n",
       "    <tr>\n",
       "      <th>4</th>\n",
       "      <td>2016-07-31 00:40:00</td>\n",
       "      <td>6.035778</td>\n",
       "      <td>355.872452</td>\n",
       "      <td>24.647778</td>\n",
       "      <td>3</td>\n",
       "      <td>0.232304</td>\n",
       "      <td>37.818121</td>\n",
       "      <td>0.073391</td>\n",
       "    </tr>\n",
       "  </tbody>\n",
       "</table>\n",
       "</div>"
      ],
      "text/plain": [
       "            time_stamp  wind_speed  wind_direction  ambient_temp  terrain  \\\n",
       "0  2016-07-31 00:00:00    4.586207       59.715545     25.969540        3   \n",
       "1  2016-07-31 00:10:00    3.486333      359.858832     25.004333        3   \n",
       "2  2016-07-31 00:20:00    5.144889      359.858832     25.009889        3   \n",
       "3  2016-07-31 00:30:00    5.510444      359.858832     24.934778        3   \n",
       "4  2016-07-31 00:40:00    6.035778      355.872452     24.647778        3   \n",
       "\n",
       "   active_power       sd_wd  turbulence_intensity  \n",
       "0      0.112002  108.846109              0.106724  \n",
       "1      0.045543    0.000000              0.076046  \n",
       "2      0.130746    0.000000              0.101187  \n",
       "3      0.167040    0.000000              0.070249  \n",
       "4      0.232304   37.818121              0.073391  "
      ]
     },
     "execution_count": 3,
     "metadata": {},
     "output_type": "execute_result"
    }
   ],
   "source": [
    "data1.head()"
   ]
  },
  {
   "cell_type": "code",
   "execution_count": 4,
   "metadata": {},
   "outputs": [],
   "source": [
    "xCol = [1, 3, 7]"
   ]
  },
  {
   "cell_type": "code",
   "execution_count": 5,
   "metadata": {},
   "outputs": [],
   "source": [
    "Xlist = [data2.iloc[:,xCol].to_numpy(), data1.iloc[:,xCol].to_numpy()]\n",
    "ylist = [data2.iloc[:,5].to_numpy(), data1.iloc[:,5].to_numpy()]"
   ]
  },
  {
   "cell_type": "code",
   "execution_count": 6,
   "metadata": {},
   "outputs": [],
   "source": [
    "matched_dataset1 = CovMatch(Xlist, ylist)"
   ]
  },
  {
   "cell_type": "code",
   "execution_count": 7,
   "metadata": {},
   "outputs": [
    {
     "data": {
      "text/plain": [
       "(19077, 24274)"
      ]
     },
     "execution_count": 7,
     "metadata": {},
     "output_type": "execute_result"
    }
   ],
   "source": [
    "len(matched_dataset1.matched_data_X[0]), len(matched_dataset1.matched_data_X[1])"
   ]
  },
  {
   "cell_type": "code",
   "execution_count": 8,
   "metadata": {},
   "outputs": [],
   "source": [
    "testset1 = np.linspace(1.025*matched_dataset1.min_max_matched['min'][0], 0.975*matched_dataset1.min_max_matched['max'][0], 1000)"
   ]
  },
  {
   "cell_type": "code",
   "execution_count": 9,
   "metadata": {},
   "outputs": [],
   "source": [
    "matched_data1 = matched_dataset1.matched_data_X"
   ]
  },
  {
   "cell_type": "code",
   "execution_count": 10,
   "metadata": {},
   "outputs": [],
   "source": [
    "X1 = [matched_data1[0][:,0].reshape(-1,1), matched_data1[1][:,0].reshape(-1,1)]\n",
    "y1 = [matched_dataset1.matched_data_y[0], matched_dataset1.matched_data_y[1]]"
   ]
  },
  {
   "cell_type": "code",
   "execution_count": 11,
   "metadata": {},
   "outputs": [
    {
     "name": "stderr",
     "output_type": "stream",
     "text": [
      " This problem is unconstrained.\n"
     ]
    },
    {
     "name": "stdout",
     "output_type": "stream",
     "text": [
      "RUNNING THE L-BFGS-B CODE\n",
      "\n",
      "           * * *\n",
      "\n",
      "Machine precision = 2.220D-16\n",
      " N =            4     M =           10\n",
      "\n",
      "At X0         0 variables are exactly at the bounds\n",
      "\n",
      "At iterate    0    f= -5.72748D+02    |proj g|=  4.15511D+03\n",
      "\n",
      "At iterate    1    f= -1.08625D+03    |proj g|=  2.05174D+03\n",
      "\n",
      "At iterate    2    f= -1.09524D+03    |proj g|=  8.88717D+01\n",
      "\n",
      "At iterate    3    f= -1.09528D+03    |proj g|=  8.22501D+01\n",
      "\n",
      "At iterate    4    f= -1.09534D+03    |proj g|=  8.23727D+01\n",
      "\n",
      "At iterate    5    f= -1.09568D+03    |proj g|=  3.01939D+02\n",
      "\n",
      "At iterate    6    f= -1.09621D+03    |proj g|=  4.75202D+02\n",
      "\n",
      "At iterate    7    f= -1.09717D+03    |proj g|=  5.52373D+02\n",
      "\n",
      "At iterate    8    f= -1.09831D+03    |proj g|=  3.52293D+02\n",
      "\n",
      "At iterate    9    f= -1.09879D+03    |proj g|=  6.05392D+01\n",
      "\n",
      "At iterate   10    f= -1.09883D+03    |proj g|=  2.55786D+01\n",
      "\n",
      "At iterate   11    f= -1.09884D+03    |proj g|=  2.67261D+01\n",
      "\n",
      "At iterate   12    f= -1.09895D+03    |proj g|=  2.01625D+01\n",
      "\n",
      "At iterate   13    f= -1.09942D+03    |proj g|=  1.95188D+02\n",
      "\n",
      "At iterate   14    f= -1.09948D+03    |proj g|=  1.06851D+02\n",
      "\n",
      "At iterate   15    f= -1.09950D+03    |proj g|=  2.62477D+00\n",
      "\n",
      "At iterate   16    f= -1.09950D+03    |proj g|=  2.42659D+00\n",
      "\n",
      "At iterate   17    f= -1.09950D+03    |proj g|=  2.42409D+00\n",
      "\n",
      "At iterate   18    f= -1.09951D+03    |proj g|=  5.42114D+00\n",
      "\n",
      "At iterate   19    f= -1.09952D+03    |proj g|=  1.30130D+01\n",
      "\n",
      "At iterate   20    f= -1.09954D+03    |proj g|=  2.48098D+01\n",
      "\n",
      "At iterate   21    f= -1.09959D+03    |proj g|=  4.65627D+01\n",
      "\n",
      "At iterate   22    f= -1.09971D+03    |proj g|=  6.01954D+01\n",
      "\n",
      "At iterate   23    f= -1.09981D+03    |proj g|=  1.09796D+02\n",
      "\n",
      "At iterate   24    f= -1.10031D+03    |proj g|=  6.41676D+01\n",
      "\n",
      "At iterate   25    f= -1.10122D+03    |proj g|=  8.27948D+00\n",
      "\n",
      "At iterate   26    f= -1.10123D+03    |proj g|=  7.14811D+01\n",
      "\n",
      "At iterate   27    f= -1.10133D+03    |proj g|=  1.85814D+01\n",
      "\n",
      "At iterate   28    f= -1.10144D+03    |proj g|=  1.02296D+01\n",
      "\n",
      "At iterate   29    f= -1.10145D+03    |proj g|=  2.53995D+00\n",
      "\n",
      "At iterate   30    f= -1.10145D+03    |proj g|=  6.07208D-01\n",
      "\n",
      "At iterate   31    f= -1.10145D+03    |proj g|=  1.97224D-01\n",
      "\n",
      "At iterate   32    f= -1.10145D+03    |proj g|=  2.65011D-02\n",
      "\n",
      "At iterate   33    f= -1.10145D+03    |proj g|=  3.44366D-03\n",
      "\n",
      "           * * *\n",
      "\n",
      "Tit   = total number of iterations\n",
      "Tnf   = total number of function evaluations\n",
      "Tnint = total number of segments explored during Cauchy searches\n",
      "Skip  = number of BFGS updates skipped\n",
      "Nact  = number of active bounds at final generalized Cauchy point\n",
      "Projg = norm of the final projected gradient\n",
      "F     = final function value\n",
      "\n",
      "           * * *\n",
      "\n",
      "   N    Tit     Tnf  Tnint  Skip  Nact     Projg        F\n",
      "    4     33     43      1     0     0   3.444D-03  -1.101D+03\n",
      "  F =  -1101.4524133362409     \n",
      "\n",
      "CONVERGENCE: REL_REDUCTION_OF_F_<=_FACTR*EPSMCH             \n"
     ]
    }
   ],
   "source": [
    "fgp = FunGP(X1, y1, testset1)"
   ]
  },
  {
   "cell_type": "code",
   "execution_count": 12,
   "metadata": {},
   "outputs": [],
   "source": [
    "mu_diff1 = -fgp.mu_diff\n",
    "band1 = fgp.band"
   ]
  },
  {
   "cell_type": "code",
   "execution_count": 38,
   "metadata": {},
   "outputs": [],
   "source": [
    "shade_min = np.where(mu_diff1-band1 >= 0.001)[0].min()\n",
    "shade_max = np.where(mu_diff1-band1 >= 0.001)[0].max()\n",
    "shade_idx = list(range(shade_min, shade_max+1))"
   ]
  },
  {
   "cell_type": "code",
   "execution_count": 34,
   "metadata": {},
   "outputs": [
    {
     "data": {
      "text/plain": [
       "(366, 901)"
      ]
     },
     "execution_count": 34,
     "metadata": {},
     "output_type": "execute_result"
    }
   ],
   "source": [
    "shade_min, shade_max"
   ]
  },
  {
   "cell_type": "code",
   "execution_count": 41,
   "metadata": {},
   "outputs": [],
   "source": [
    "np.random.seed(1)\n",
    "sample_idx = np.random.choice(len(data2), len(data2), replace=False)"
   ]
  },
  {
   "cell_type": "code",
   "execution_count": 55,
   "metadata": {},
   "outputs": [],
   "source": [
    "idx1 = int(len(data2)/2)\n",
    "data2_1 = data2.iloc[sample_idx[:idx1],:]\n",
    "data2_2 = data2.iloc[sample_idx[idx1:],:]"
   ]
  },
  {
   "cell_type": "code",
   "execution_count": 56,
   "metadata": {},
   "outputs": [],
   "source": [
    "Xlist2 = [data2_1.iloc[:,xCol].to_numpy(), data2_2.iloc[:,xCol].to_numpy()]\n",
    "ylist2 = [data2_1.iloc[:,5].to_numpy(), data2_2.iloc[:,5].to_numpy()]"
   ]
  },
  {
   "cell_type": "code",
   "execution_count": 57,
   "metadata": {},
   "outputs": [],
   "source": [
    "matched_dataset2 = CovMatch(Xlist2, ylist2)"
   ]
  },
  {
   "cell_type": "code",
   "execution_count": 62,
   "metadata": {},
   "outputs": [],
   "source": [
    "testset2 = np.linspace(1.025*matched_dataset2.min_max_matched['min'][0], 0.975*matched_dataset2.min_max_matched['max'][0], 1000)"
   ]
  },
  {
   "cell_type": "code",
   "execution_count": 63,
   "metadata": {},
   "outputs": [],
   "source": [
    "matched_data2 = matched_dataset2.matched_data_X\n",
    "X2 = [matched_data2[0][:,0].reshape(-1,1), matched_data2[1][:,0].reshape(-1,1)]\n",
    "y2 = [matched_dataset2.matched_data_y[0], matched_dataset2.matched_data_y[1]]"
   ]
  },
  {
   "cell_type": "code",
   "execution_count": 64,
   "metadata": {},
   "outputs": [
    {
     "name": "stdout",
     "output_type": "stream",
     "text": [
      "RUNNING THE L-BFGS-B CODE\n",
      "\n",
      "           * * *\n",
      "\n",
      "Machine precision = 2.220D-16\n",
      " N =            4     M =           10\n",
      "\n",
      "At X0         0 variables are exactly at the bounds\n",
      "\n",
      "At iterate    0    f= -5.26507D+02    |proj g|=  4.23282D+03\n"
     ]
    },
    {
     "name": "stderr",
     "output_type": "stream",
     "text": [
      " This problem is unconstrained.\n"
     ]
    },
    {
     "name": "stdout",
     "output_type": "stream",
     "text": [
      "\n",
      "At iterate    1    f= -1.60840D+03    |proj g|=  2.21528D+03\n",
      "\n",
      "At iterate    2    f= -1.60881D+03    |proj g|=  1.72634D+03\n",
      "\n",
      "At iterate    3    f= -1.61064D+03    |proj g|=  2.19097D+02\n",
      "\n",
      "At iterate    4    f= -1.61067D+03    |proj g|=  7.90118D+01\n",
      "\n",
      "At iterate    5    f= -1.61085D+03    |proj g|=  1.89257D+02\n",
      "\n",
      "At iterate    6    f= -1.61202D+03    |proj g|=  7.09867D+02\n",
      "\n",
      "At iterate    7    f= -1.61318D+03    |proj g|=  7.09132D+02\n",
      "\n",
      "At iterate    8    f= -1.61433D+03    |proj g|=  1.06962D+02\n",
      "\n",
      "At iterate    9    f= -1.61456D+03    |proj g|=  2.31901D+02\n",
      "\n",
      "At iterate   10    f= -1.61467D+03    |proj g|=  1.94088D+02\n",
      "\n",
      "At iterate   11    f= -1.61472D+03    |proj g|=  1.17255D+02\n",
      "\n",
      "At iterate   12    f= -1.61480D+03    |proj g|=  2.46834D+01\n",
      "\n",
      "At iterate   13    f= -1.61492D+03    |proj g|=  7.20765D+01\n",
      "\n",
      "At iterate   14    f= -1.61520D+03    |proj g|=  1.92318D+02\n",
      "\n",
      "At iterate   15    f= -1.61569D+03    |proj g|=  2.98129D+02\n",
      "\n",
      "At iterate   16    f= -1.61623D+03    |proj g|=  4.58361D+02\n",
      "\n",
      "At iterate   17    f= -1.61636D+03    |proj g|=  2.28462D+01\n",
      "\n",
      "At iterate   18    f= -1.61655D+03    |proj g|=  8.60919D+01\n",
      "\n",
      "At iterate   19    f= -1.61660D+03    |proj g|=  1.99096D+01\n",
      "\n",
      "At iterate   20    f= -1.61664D+03    |proj g|=  5.93002D+00\n",
      "\n",
      "At iterate   21    f= -1.61665D+03    |proj g|=  9.60068D+00\n",
      "\n",
      "At iterate   22    f= -1.61676D+03    |proj g|=  6.35307D+01\n",
      "\n",
      "At iterate   23    f= -1.61693D+03    |proj g|=  1.09941D+02\n",
      "\n",
      "At iterate   24    f= -1.61744D+03    |proj g|=  1.85114D+02\n",
      "\n",
      "At iterate   25    f= -1.61796D+03    |proj g|=  1.51914D+02\n",
      "\n",
      "At iterate   26    f= -1.61824D+03    |proj g|=  2.71632D+01\n",
      "\n",
      "At iterate   27    f= -1.61831D+03    |proj g|=  1.68555D+01\n",
      "\n",
      "At iterate   28    f= -1.61831D+03    |proj g|=  6.04596D+00\n",
      "\n",
      "At iterate   29    f= -1.61832D+03    |proj g|=  2.69919D+00\n",
      "\n",
      "At iterate   30    f= -1.61832D+03    |proj g|=  1.11778D+00\n",
      "\n",
      "At iterate   31    f= -1.61832D+03    |proj g|=  9.38549D-02\n",
      "\n",
      "At iterate   32    f= -1.61832D+03    |proj g|=  8.07348D-04\n",
      "\n",
      "           * * *\n",
      "\n",
      "Tit   = total number of iterations\n",
      "Tnf   = total number of function evaluations\n",
      "Tnint = total number of segments explored during Cauchy searches\n",
      "Skip  = number of BFGS updates skipped\n",
      "Nact  = number of active bounds at final generalized Cauchy point\n",
      "Projg = norm of the final projected gradient\n",
      "F     = final function value\n",
      "\n",
      "           * * *\n",
      "\n",
      "   N    Tit     Tnf  Tnint  Skip  Nact     Projg        F\n",
      "    4     32     46      1     0     0   8.073D-04  -1.618D+03\n",
      "  F =  -1618.3244949177758     \n",
      "\n",
      "CONVERGENCE: REL_REDUCTION_OF_F_<=_FACTR*EPSMCH             \n"
     ]
    }
   ],
   "source": [
    "fgp2 = FunGP(X2, y2, testset2)"
   ]
  },
  {
   "cell_type": "code",
   "execution_count": 67,
   "metadata": {},
   "outputs": [],
   "source": [
    "mu_diff2 = -fgp2.mu_diff\n",
    "band2 = fgp2.band"
   ]
  },
  {
   "cell_type": "code",
   "execution_count": null,
   "metadata": {},
   "outputs": [],
   "source": []
  }
 ],
 "metadata": {
  "interpreter": {
   "hash": "967c564a01867f0f436712dde72deb86cc3132cc823789aeffdae4794d2fc619"
  },
  "kernelspec": {
   "display_name": "Python 3 (ipykernel)",
   "language": "python",
   "name": "python3"
  },
  "language_info": {
   "codemirror_mode": {
    "name": "ipython",
    "version": 3
   },
   "file_extension": ".py",
   "mimetype": "text/x-python",
   "name": "python",
   "nbconvert_exporter": "python",
   "pygments_lexer": "ipython3",
   "version": "3.9.7"
  }
 },
 "nbformat": 4,
 "nbformat_minor": 2
}
