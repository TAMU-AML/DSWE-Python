{
 "cells": [
  {
   "cell_type": "code",
   "execution_count": 1,
   "id": "9ce2986c",
   "metadata": {},
   "outputs": [],
   "source": [
    "from dswe import TempGP\n",
    "import numpy as np\n",
    "import pandas as pd"
   ]
  },
  {
   "cell_type": "markdown",
   "id": "11d65178",
   "metadata": {},
   "source": [
    "### Load dataset"
   ]
  },
  {
   "cell_type": "code",
   "execution_count": 2,
   "id": "4ede20d6",
   "metadata": {},
   "outputs": [],
   "source": [
    "df = pd.read_csv('../../Inland_Offshore_Wind_Farm_Dataset1/Inland Wind Farm Dataset1(WT1).csv')"
   ]
  },
  {
   "cell_type": "code",
   "execution_count": 3,
   "id": "24a1d6a8",
   "metadata": {},
   "outputs": [
    {
     "data": {
      "text/html": [
       "<div>\n",
       "<style scoped>\n",
       "    .dataframe tbody tr th:only-of-type {\n",
       "        vertical-align: middle;\n",
       "    }\n",
       "\n",
       "    .dataframe tbody tr th {\n",
       "        vertical-align: top;\n",
       "    }\n",
       "\n",
       "    .dataframe thead th {\n",
       "        text-align: right;\n",
       "    }\n",
       "</style>\n",
       "<table border=\"1\" class=\"dataframe\">\n",
       "  <thead>\n",
       "    <tr style=\"text-align: right;\">\n",
       "      <th></th>\n",
       "      <th>Sequence No.</th>\n",
       "      <th>V</th>\n",
       "      <th>D</th>\n",
       "      <th>air density</th>\n",
       "      <th>I</th>\n",
       "      <th>S_b</th>\n",
       "      <th>y (% relative to rated power)</th>\n",
       "    </tr>\n",
       "  </thead>\n",
       "  <tbody>\n",
       "    <tr>\n",
       "      <th>0</th>\n",
       "      <td>1</td>\n",
       "      <td>7.96</td>\n",
       "      <td>138.9</td>\n",
       "      <td>1.140224</td>\n",
       "      <td>0.090452</td>\n",
       "      <td>0.266512</td>\n",
       "      <td>39.315152</td>\n",
       "    </tr>\n",
       "    <tr>\n",
       "      <th>1</th>\n",
       "      <td>2</td>\n",
       "      <td>8.19</td>\n",
       "      <td>140.6</td>\n",
       "      <td>1.140522</td>\n",
       "      <td>0.083028</td>\n",
       "      <td>0.286167</td>\n",
       "      <td>45.745455</td>\n",
       "    </tr>\n",
       "    <tr>\n",
       "      <th>2</th>\n",
       "      <td>3</td>\n",
       "      <td>7.20</td>\n",
       "      <td>139.3</td>\n",
       "      <td>1.140771</td>\n",
       "      <td>0.098611</td>\n",
       "      <td>0.339321</td>\n",
       "      <td>38.212121</td>\n",
       "    </tr>\n",
       "    <tr>\n",
       "      <th>3</th>\n",
       "      <td>4</td>\n",
       "      <td>6.81</td>\n",
       "      <td>137.4</td>\n",
       "      <td>1.141186</td>\n",
       "      <td>0.101322</td>\n",
       "      <td>0.375815</td>\n",
       "      <td>28.218182</td>\n",
       "    </tr>\n",
       "    <tr>\n",
       "      <th>4</th>\n",
       "      <td>5</td>\n",
       "      <td>5.09</td>\n",
       "      <td>137.5</td>\n",
       "      <td>1.141464</td>\n",
       "      <td>0.165029</td>\n",
       "      <td>0.303472</td>\n",
       "      <td>12.721212</td>\n",
       "    </tr>\n",
       "  </tbody>\n",
       "</table>\n",
       "</div>"
      ],
      "text/plain": [
       "   Sequence No.     V      D  air density         I       S_b  \\\n",
       "0             1  7.96  138.9     1.140224  0.090452  0.266512   \n",
       "1             2  8.19  140.6     1.140522  0.083028  0.286167   \n",
       "2             3  7.20  139.3     1.140771  0.098611  0.339321   \n",
       "3             4  6.81  137.4     1.141186  0.101322  0.375815   \n",
       "4             5  5.09  137.5     1.141464  0.165029  0.303472   \n",
       "\n",
       "   y (% relative to rated power)  \n",
       "0                      39.315152  \n",
       "1                      45.745455  \n",
       "2                      38.212121  \n",
       "3                      28.218182  \n",
       "4                      12.721212  "
      ]
     },
     "execution_count": 3,
     "metadata": {},
     "output_type": "execute_result"
    }
   ],
   "source": [
    "df.head()"
   ]
  },
  {
   "cell_type": "code",
   "execution_count": 4,
   "id": "74bc0238",
   "metadata": {},
   "outputs": [
    {
     "data": {
      "text/plain": [
       "(47542, 7)"
      ]
     },
     "execution_count": 4,
     "metadata": {},
     "output_type": "execute_result"
    }
   ],
   "source": [
    "df.shape"
   ]
  },
  {
   "cell_type": "markdown",
   "id": "19201730",
   "metadata": {},
   "source": [
    "### Feature selection and train-test split"
   ]
  },
  {
   "cell_type": "code",
   "execution_count": 5,
   "id": "f2f3a413",
   "metadata": {},
   "outputs": [],
   "source": [
    "X_train = df.iloc[:1000, 1:6].values\n",
    "y_train = df.iloc[:1000, 6].values\n",
    "T_train = df.iloc[:1000, 0].values"
   ]
  },
  {
   "cell_type": "code",
   "execution_count": 6,
   "id": "a444424f",
   "metadata": {},
   "outputs": [],
   "source": [
    "X_test = df.iloc[1000:1100, 1:6].values\n",
    "y_test = df.iloc[1000:1100, 6].values\n",
    "T_test = df.iloc[1000:1100, 0].values"
   ]
  },
  {
   "cell_type": "code",
   "execution_count": 7,
   "id": "044b6546",
   "metadata": {},
   "outputs": [],
   "source": [
    "X_update = df.iloc[1100:1500, 1:6].values\n",
    "y_update = df.iloc[1100:1500, 6].values\n",
    "T_update = df.iloc[1100:1500, 0].values"
   ]
  },
  {
   "cell_type": "markdown",
   "id": "2cb16a47",
   "metadata": {},
   "source": [
    "### Fit the TempGP model"
   ]
  },
  {
   "cell_type": "code",
   "execution_count": 8,
   "id": "2bc67d31",
   "metadata": {},
   "outputs": [],
   "source": [
    "tempGP_model = TempGP(opt_method='L-BFGS-B')"
   ]
  },
  {
   "cell_type": "code",
   "execution_count": 9,
   "id": "62e19c1b",
   "metadata": {},
   "outputs": [
    {
     "data": {
      "text/plain": [
       "<dswe.tempGP.TempGP at 0x14ef59b50>"
      ]
     },
     "execution_count": 9,
     "metadata": {},
     "output_type": "execute_result"
    }
   ],
   "source": [
    "tempGP_model.fit(X_train, y_train, T_train)"
   ]
  },
  {
   "cell_type": "code",
   "execution_count": 10,
   "id": "562f2221",
   "metadata": {},
   "outputs": [
    {
     "data": {
      "text/plain": [
       "{'estimated_params': {'theta': array([ 26.6168029 , 124.17708876,  49.49534424,  49.38179841,\n",
       "          49.63940411]),\n",
       "  'sigma_f': 38.0364389269656,\n",
       "  'sigma_n': 32.87725705089644,\n",
       "  'beta': 35.13901869370132},\n",
       " 'obj_val': None,\n",
       " 'grad_val': None}"
      ]
     },
     "execution_count": 10,
     "metadata": {},
     "output_type": "execute_result"
    }
   ],
   "source": [
    "tempGP_model.optim_result"
   ]
  },
  {
   "cell_type": "markdown",
   "id": "8414b4f5",
   "metadata": {},
   "source": [
    "### Prediction on the test set"
   ]
  },
  {
   "cell_type": "code",
   "execution_count": 11,
   "id": "bef0e8ab",
   "metadata": {},
   "outputs": [
    {
     "name": "stderr",
     "output_type": "stream",
     "text": [
      "/opt/homebrew/Caskroom/miniforge/base/envs/condapy/lib/python3.9/site-packages/dswe/_tempGP_subroutine.py:148: UserWarning: While computing g(t), variance of the training residuals is numerically zero for time index: 1007\n",
      "Using mean of the response as the prediction.\n",
      "  warnings.warn(msg)\n"
     ]
    },
    {
     "data": {
      "text/plain": [
       "array([ 2.22075166, -2.18510218, -5.48026168, -2.0770907 , -6.40532669,\n",
       "        3.46447964, -0.45221518, 30.28170117, 30.93966582, 29.35983662,\n",
       "       29.90826361, 24.71214091, 22.52025708, 18.94996753, 22.52411445,\n",
       "       22.5741802 , 24.17945606, 23.53091573, 23.04868467, 23.18472132,\n",
       "       31.02742953, 25.80116975, 21.00754436, 11.63050986,  4.83330261,\n",
       "       20.68786152, 14.56270156,  8.31251311,  9.7594407 , 19.71672193,\n",
       "        5.12120944,  4.3429477 , -0.5270037 ,  2.18863687,  4.86718485,\n",
       "       11.48727363, 12.8007834 , 12.02581097,  9.70499355, 12.31826052,\n",
       "        8.654749  , 10.63928273,  6.65671207,  5.19477441,  5.76782579,\n",
       "        8.18104762,  1.69498021, -1.58414985,  0.53681738, -0.16388618,\n",
       "        1.90894395, -2.28343824,  5.31397131,  7.92570039,  7.89162916,\n",
       "        9.00623492,  9.14103367,  8.58542143,  5.94073444,  3.89405081,\n",
       "       -2.55957566, 17.27408473, 23.67214852, 26.39701848, 17.26339141,\n",
       "       18.53446031, 28.01636826, 22.37501688,  4.77575834, 12.73248429,\n",
       "       22.79211315,  5.55012131,  4.82896706,  9.06355441,  5.97167457,\n",
       "       12.92377709, 21.51020758, 20.80882218, 22.24026851, 32.97200741,\n",
       "       32.8378569 , 29.02908842, 34.6492104 , 32.27310021, 32.00749112,\n",
       "       36.22382706, 34.42220352, 30.06974899, 30.24362274, 31.63243832,\n",
       "       30.80007696, 32.11245296, 30.3763984 , 32.1822483 , 27.42777742,\n",
       "       26.31484673, 29.23208139, 32.297991  , 33.55011418, 28.12726703])"
      ]
     },
     "execution_count": 11,
     "metadata": {},
     "output_type": "execute_result"
    }
   ],
   "source": [
    "prediction = tempGP_model.predict(X_test, T_test)\n",
    "prediction"
   ]
  },
  {
   "cell_type": "code",
   "execution_count": 12,
   "id": "eb9e74f1",
   "metadata": {},
   "outputs": [
    {
     "data": {
      "text/plain": [
       "6.108524153475761"
      ]
     },
     "execution_count": 12,
     "metadata": {},
     "output_type": "execute_result"
    }
   ],
   "source": [
    "np.abs(prediction - y_test).mean()"
   ]
  },
  {
   "cell_type": "markdown",
   "id": "2036f4cc",
   "metadata": {},
   "source": [
    "### Update the model on new data"
   ]
  },
  {
   "cell_type": "code",
   "execution_count": 13,
   "id": "9c205ba9",
   "metadata": {},
   "outputs": [
    {
     "data": {
      "text/plain": [
       "<dswe.tempGP.TempGP at 0x14ef59b50>"
      ]
     },
     "execution_count": 13,
     "metadata": {},
     "output_type": "execute_result"
    }
   ],
   "source": [
    "tempGP_model.update(X_update, y_update, T_update, replace=True, update_model_F=False)"
   ]
  },
  {
   "cell_type": "markdown",
   "id": "7b530b2c",
   "metadata": {},
   "source": [
    "### Prediction on new test data"
   ]
  },
  {
   "cell_type": "code",
   "execution_count": 14,
   "id": "16aea232",
   "metadata": {},
   "outputs": [],
   "source": [
    "X_test_new = df.iloc[1500:1600, 1:6].values\n",
    "y_test_new = df.iloc[1500:1600, 6].values\n",
    "T_test_new = df.iloc[1500:1600, 0].values"
   ]
  },
  {
   "cell_type": "code",
   "execution_count": 15,
   "id": "32bbc0b5",
   "metadata": {},
   "outputs": [
    {
     "name": "stderr",
     "output_type": "stream",
     "text": [
      "/opt/homebrew/Caskroom/miniforge/base/envs/condapy/lib/python3.9/site-packages/dswe/_tempGP_subroutine.py:148: UserWarning: While computing g(t), variance of the training residuals is numerically zero for time index: 1507\n",
      "Using mean of the response as the prediction.\n",
      "  warnings.warn(msg)\n"
     ]
    },
    {
     "data": {
      "text/plain": [
       "array([ 4.27314612,  0.06025814,  3.32340725, -0.3552116 ,  5.52679607,\n",
       "        5.64425221,  5.09055259,  7.43321816, 11.84683717, 15.71963252,\n",
       "       18.41283526, 13.78274977, 18.10817046, 24.72278406, 22.22189604,\n",
       "       22.69529134, 20.94591204, 25.15764203, 27.68447124, 23.63309948,\n",
       "       23.55622882, 24.89933873, 22.2874042 , 15.80950508,  8.52203422,\n",
       "        3.40111277,  8.92000966, 11.36473641,  7.20889116,  6.75912481,\n",
       "       11.62869159,  7.93986719, 16.91226191, 17.619587  , 10.44029938,\n",
       "        8.54744724, 11.16978547,  9.82891698, 11.94825633, 16.15711381,\n",
       "        0.04700495,  0.66415117, -0.20896818, -1.71183502,  9.75891695,\n",
       "        7.51640561,  7.87341682,  1.80858402,  1.27079229,  2.11636553,\n",
       "        0.90894411,  0.8905617 , -2.16871673,  0.5835259 ,  2.95374106,\n",
       "        5.12328755, 14.8145542 , 29.63235799, 36.54421071, 29.37896494,\n",
       "       24.60922375, 26.01746055, 22.31815324, 17.18025417, 15.82898384,\n",
       "       19.66402781, 16.52898027, 15.09641617, 14.63822176, 15.55818685,\n",
       "       14.56519064, 19.64518997, 21.66823833, 19.10931083, 15.41422275,\n",
       "       12.92961018, 10.93588684, 15.13707529, 14.59873951,  9.89207996,\n",
       "        9.85165857,  4.92032149,  3.84786308, 12.34302315, 15.21012875,\n",
       "       15.22892517, 23.57602359, 18.33349648, 13.5351347 , 16.12815627,\n",
       "       11.47420924,  7.48769083, -0.32921225,  3.19181873,  1.31718035,\n",
       "        2.61045461,  4.31265024,  6.83927138, 22.42116362, 30.71848927])"
      ]
     },
     "execution_count": 15,
     "metadata": {},
     "output_type": "execute_result"
    }
   ],
   "source": [
    "new_prediction = tempGP_model.predict(X_test_new, T_test_new)\n",
    "new_prediction"
   ]
  },
  {
   "cell_type": "code",
   "execution_count": 16,
   "id": "a08104d6",
   "metadata": {},
   "outputs": [
    {
     "data": {
      "text/plain": [
       "5.321669121633244"
      ]
     },
     "execution_count": 16,
     "metadata": {},
     "output_type": "execute_result"
    }
   ],
   "source": [
    "np.abs(new_prediction - y_test_new).mean()"
   ]
  }
 ],
 "metadata": {
  "kernelspec": {
   "display_name": "Python 3.9.7 ('condapy')",
   "language": "python",
   "name": "python3"
  },
  "language_info": {
   "codemirror_mode": {
    "name": "ipython",
    "version": 3
   },
   "file_extension": ".py",
   "mimetype": "text/x-python",
   "name": "python",
   "nbconvert_exporter": "python",
   "pygments_lexer": "ipython3",
   "version": "3.9.7"
  },
  "vscode": {
   "interpreter": {
    "hash": "967c564a01867f0f436712dde72deb86cc3132cc823789aeffdae4794d2fc619"
   }
  }
 },
 "nbformat": 4,
 "nbformat_minor": 5
}
