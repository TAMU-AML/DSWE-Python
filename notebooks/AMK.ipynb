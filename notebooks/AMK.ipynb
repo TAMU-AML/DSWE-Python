{
 "cells": [
  {
   "cell_type": "code",
   "execution_count": 1,
   "metadata": {},
   "outputs": [],
   "source": [
    "import numpy as np\n",
    "import pandas as pd\n",
    "from dswe import AMK"
   ]
  },
  {
   "cell_type": "code",
   "execution_count": 2,
   "metadata": {},
   "outputs": [],
   "source": [
    "df = pd.read_csv('../../../Downloads/Inland_Offshore_Wind_Farm_Dataset1/Inland Wind Farm Dataset1(WT1).csv')\n",
    "X_train = df.iloc[:100, [1,2,3,4]].values\n",
    "y_train = df.iloc[:100, 6].values\n",
    "X_test = df.iloc[100:110, [1,2,3,4]].values"
   ]
  },
  {
   "cell_type": "code",
   "execution_count": 3,
   "metadata": {},
   "outputs": [],
   "source": [
    "bw = np.arange(1,5)*0.1  # provided the bandwidth corresponding to each column.\n",
    "n_multi_cov = 3\n",
    "fixed_cov = [0, 1]\n",
    "cir_cov = [1]"
   ]
  },
  {
   "cell_type": "code",
   "execution_count": 4,
   "metadata": {},
   "outputs": [],
   "source": [
    "pred = AMK(X_train, y_train, X_test, bw, n_multi_cov, fixed_cov, cir_cov)"
   ]
  },
  {
   "cell_type": "code",
   "execution_count": 5,
   "metadata": {},
   "outputs": [
    {
     "data": {
      "text/plain": [
       "[9.140812302103448,\n",
       " 5.119444448574794,\n",
       " 3.1774480060930137,\n",
       " 3.475282268341,\n",
       " 7.766358525773634,\n",
       " 9.950255363769463,\n",
       " 6.1044387062118775,\n",
       " 3.1849545816038916,\n",
       " 3.234298418607518,\n",
       " 10.985669244467395]"
      ]
     },
     "execution_count": 5,
     "metadata": {},
     "output_type": "execute_result"
    }
   ],
   "source": [
    "pred.predictions"
   ]
  }
 ],
 "metadata": {
  "interpreter": {
   "hash": "967c564a01867f0f436712dde72deb86cc3132cc823789aeffdae4794d2fc619"
  },
  "kernelspec": {
   "display_name": "Python 3.9.7 ('condapy')",
   "language": "python",
   "name": "python3"
  },
  "language_info": {
   "codemirror_mode": {
    "name": "ipython",
    "version": 3
   },
   "file_extension": ".py",
   "mimetype": "text/x-python",
   "name": "python",
   "nbconvert_exporter": "python",
   "pygments_lexer": "ipython3",
   "version": "3.9.7"
  },
  "orig_nbformat": 4
 },
 "nbformat": 4,
 "nbformat_minor": 2
}
