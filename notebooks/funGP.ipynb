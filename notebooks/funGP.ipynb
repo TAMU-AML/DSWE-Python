{
 "cells": [
  {
   "cell_type": "code",
   "execution_count": 1,
   "metadata": {},
   "outputs": [],
   "source": [
    "from dswe import FunGP\n",
    "import numpy as np\n",
    "import pandas as pd"
   ]
  },
  {
   "cell_type": "markdown",
   "metadata": {},
   "source": [
    "### Load dataset and feature selection"
   ]
  },
  {
   "cell_type": "code",
   "execution_count": 2,
   "metadata": {},
   "outputs": [],
   "source": [
    "df1 = pd.read_csv('../../Inland_Offshore_Wind_Farm_Dataset1/Inland Wind Farm Dataset1(WT1).csv')\n",
    "df2 = pd.read_csv('../../Inland_Offshore_Wind_Farm_Dataset1/Inland Wind Farm Dataset1(WT2).csv')\n",
    "\n",
    "Xlist = [df1.iloc[:2000, [1,2]].to_numpy(), df2.iloc[:500, [1,2]].to_numpy()]\n",
    "ylist = [df1.iloc[:2000, 6].to_numpy(), df2.iloc[:500, 6].to_numpy()]"
   ]
  },
  {
   "cell_type": "markdown",
   "metadata": {},
   "source": [
    "### Create testset"
   ]
  },
  {
   "cell_type": "code",
   "execution_count": 3,
   "metadata": {},
   "outputs": [],
   "source": [
    "# example function to generate testset.\n",
    "def generate_test_set(data, testcol, grid_size):\n",
    "    if len(testcol) == 1:\n",
    "        var1min = max([np.quantile(x[:, testcol[0]], 0.025) for x in data])\n",
    "        var1max = min([np.quantile(x[:, testcol[0]], 0.975) for x in data])\n",
    "        var1range = np.linspace(var1min, var1max, grid_size)\n",
    "        return var1range.reshape(-1, 1)\n",
    "\n",
    "    elif len(testcol) == 2:\n",
    "        var1min = max([np.quantile(x[:, testcol[0]], 0.025) for x in data])\n",
    "        var1max = min([np.quantile(x[:, testcol[0]], 0.975) for x in data])\n",
    "        var1range = np.linspace(var1min, var1max, grid_size[0])\n",
    "        var2min = max([np.quantile(x[:, testcol[1]], 0.025) for x in data])\n",
    "        var2max = min([np.quantile(x[:, testcol[1]], 0.975) for x in data])\n",
    "        var2range = np.linspace(var2min, var2max, grid_size[1])\n",
    "        return np.array([[m, n] for n in var2range for m in var1range])\n",
    "\n",
    "testcol = [0,1]\n",
    "\n",
    "grid_size = [20,20]\n",
    "testset = generate_test_set(Xlist, testcol, grid_size)"
   ]
  },
  {
   "cell_type": "markdown",
   "metadata": {},
   "source": [
    "### Choose parameters and fit the FunGP model"
   ]
  },
  {
   "cell_type": "code",
   "execution_count": 4,
   "metadata": {},
   "outputs": [
    {
     "name": "stdout",
     "output_type": "stream",
     "text": [
      "RUNNING THE L-BFGS-B CODE\n",
      "\n",
      "           * * *\n",
      "\n",
      "Machine precision = 2.220D-16\n",
      " N =            5     M =           10\n",
      "\n",
      "At X0         0 variables are exactly at the bounds\n",
      "\n",
      "At iterate    0    f=  8.02920D+02    |proj g|=  8.22478D+00\n",
      "\n",
      "At iterate    1    f=  7.65674D+02    |proj g|=  8.40421D+00\n",
      "\n",
      "At iterate    2    f=  7.44644D+02    |proj g|=  6.88339D+00\n",
      "\n",
      "At iterate    3    f=  7.36626D+02    |proj g|=  4.20980D+00\n",
      "\n",
      "At iterate    4    f=  7.34605D+02    |proj g|=  1.35843D+00\n",
      "\n",
      "At iterate    5    f=  7.34386D+02    |proj g|=  3.44641D-01\n",
      "\n",
      "At iterate    6    f=  7.34352D+02    |proj g|=  3.37384D-01\n",
      "\n",
      "At iterate    7    f=  7.34099D+02    |proj g|=  6.62318D-01\n",
      "\n",
      "At iterate    8    f=  7.33907D+02    |proj g|=  6.22930D-01\n"
     ]
    },
    {
     "name": "stderr",
     "output_type": "stream",
     "text": [
      " This problem is unconstrained.\n"
     ]
    },
    {
     "name": "stdout",
     "output_type": "stream",
     "text": [
      "\n",
      "At iterate    9    f=  7.33735D+02    |proj g|=  1.40906D-01\n",
      "\n",
      "At iterate   10    f=  7.33696D+02    |proj g|=  1.23120D-01\n",
      "\n",
      "At iterate   11    f=  7.33680D+02    |proj g|=  1.81627D-01\n",
      "\n",
      "At iterate   12    f=  7.33635D+02    |proj g|=  2.57997D-01\n",
      "\n",
      "At iterate   13    f=  7.33532D+02    |proj g|=  3.26913D-01\n",
      "\n",
      "At iterate   14    f=  7.33296D+02    |proj g|=  4.13205D-01\n",
      "\n",
      "At iterate   15    f=  7.32833D+02    |proj g|=  5.80073D-01\n",
      "\n",
      "At iterate   16    f=  7.32464D+02    |proj g|=  8.37571D-01\n",
      "\n",
      "At iterate   17    f=  7.31919D+02    |proj g|=  5.09262D-01\n",
      "\n",
      "At iterate   18    f=  7.31721D+02    |proj g|=  1.38354D-01\n",
      "\n",
      "At iterate   19    f=  7.31493D+02    |proj g|=  2.92561D-01\n",
      "\n",
      "At iterate   20    f=  7.31330D+02    |proj g|=  3.38622D-01\n",
      "\n",
      "At iterate   21    f=  7.30873D+02    |proj g|=  4.76389D-01\n",
      "\n",
      "At iterate   22    f=  7.29743D+02    |proj g|=  4.64634D-01\n",
      "\n",
      "At iterate   23    f=  7.29198D+02    |proj g|=  8.39806D-01\n",
      "\n",
      "At iterate   24    f=  7.28827D+02    |proj g|=  2.08492D-01\n",
      "\n",
      "At iterate   25    f=  7.28661D+02    |proj g|=  6.14611D-02\n",
      "\n",
      "At iterate   26    f=  7.28606D+02    |proj g|=  6.29828D-02\n",
      "\n",
      "At iterate   27    f=  7.28605D+02    |proj g|=  2.71325D-02\n",
      "\n",
      "At iterate   28    f=  7.28593D+02    |proj g|=  5.89987D-03\n",
      "\n",
      "At iterate   29    f=  7.28592D+02    |proj g|=  1.93594D-02\n",
      "\n",
      "At iterate   30    f=  7.28592D+02    |proj g|=  7.66536D-03\n",
      "\n",
      "At iterate   31    f=  7.28592D+02    |proj g|=  1.44308D-03\n",
      "\n",
      "At iterate   32    f=  7.28592D+02    |proj g|=  2.17589D-03\n",
      "\n",
      "At iterate   33    f=  7.28592D+02    |proj g|=  1.96851D-03\n",
      "\n",
      "At iterate   34    f=  7.28592D+02    |proj g|=  2.31327D-04\n",
      "\n",
      "           * * *\n",
      "\n",
      "Tit   = total number of iterations\n",
      "Tnf   = total number of function evaluations\n",
      "Tnint = total number of segments explored during Cauchy searches\n",
      "Skip  = number of BFGS updates skipped\n",
      "Nact  = number of active bounds at final generalized Cauchy point\n",
      "Projg = norm of the final projected gradient\n",
      "F     = final function value\n",
      "\n",
      "           * * *\n",
      "\n",
      "   N    Tit     Tnf  Tnint  Skip  Nact     Projg        F\n",
      "    5     34     44      1     0     0   2.313D-04   7.286D+02\n",
      "  F =   728.59168579967968     \n",
      "\n",
      "CONVERGENCE: REL_REDUCTION_OF_F_<=_FACTR*EPSMCH             \n"
     ]
    }
   ],
   "source": [
    "limit_memory = True\n",
    "optim_size = 100\n",
    "band_size = 1000\n",
    "rng_seed = 1\n",
    "conf_level = 0.95\n",
    "\n",
    "model = FunGP(Xlist, ylist, testset, limit_memory=limit_memory, \n",
    "             sample_size={'optim_size': optim_size, 'band_size': band_size}, rng_seed=rng_seed, conf_level=conf_level)"
   ]
  },
  {
   "cell_type": "code",
   "execution_count": 5,
   "metadata": {},
   "outputs": [],
   "source": [
    "mu1, mu2 = model.mu1, model.mu2"
   ]
  },
  {
   "cell_type": "markdown",
   "metadata": {},
   "source": []
  }
 ],
 "metadata": {
  "kernelspec": {
   "display_name": "Python 3.9.7 ('condapy')",
   "language": "python",
   "name": "python3"
  },
  "language_info": {
   "codemirror_mode": {
    "name": "ipython",
    "version": 3
   },
   "file_extension": ".py",
   "mimetype": "text/x-python",
   "name": "python",
   "nbconvert_exporter": "python",
   "pygments_lexer": "ipython3",
   "version": "3.9.7"
  },
  "orig_nbformat": 4,
  "vscode": {
   "interpreter": {
    "hash": "967c564a01867f0f436712dde72deb86cc3132cc823789aeffdae4794d2fc619"
   }
  }
 },
 "nbformat": 4,
 "nbformat_minor": 2
}
