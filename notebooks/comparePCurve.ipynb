{
 "cells": [
  {
   "cell_type": "code",
   "execution_count": 1,
   "metadata": {},
   "outputs": [],
   "source": [
    "from dswe import ComparePCurve\n",
    "import numpy as np\n",
    "import pandas as pd"
   ]
  },
  {
   "cell_type": "markdown",
   "metadata": {},
   "source": [
    "### Load dataset and feature selection"
   ]
  },
  {
   "cell_type": "code",
   "execution_count": 2,
   "metadata": {},
   "outputs": [],
   "source": [
    "df1 = pd.read_csv('../../Inland_Offshore_Wind_Farm_Dataset1/Inland Wind Farm Dataset1(WT1).csv')\n",
    "df2 = pd.read_csv('../../Inland_Offshore_Wind_Farm_Dataset1/Inland Wind Farm Dataset1(WT2).csv')\n",
    "\n",
    "Xlist = [df1.iloc[:2000, [1,2]].to_numpy(), df2.iloc[:500, [1,2]].to_numpy()]\n",
    "ylist = [df1.iloc[:2000, 6].to_numpy(), df2.iloc[:500, 6].to_numpy()]"
   ]
  },
  {
   "cell_type": "markdown",
   "metadata": {},
   "source": [
    "### Fit the ComparePCurve model"
   ]
  },
  {
   "cell_type": "code",
   "execution_count": 3,
   "metadata": {},
   "outputs": [
    {
     "name": "stderr",
     "output_type": "stream",
     "text": [
      " This problem is unconstrained.\n"
     ]
    },
    {
     "name": "stdout",
     "output_type": "stream",
     "text": [
      "RUNNING THE L-BFGS-B CODE\n",
      "\n",
      "           * * *\n",
      "\n",
      "Machine precision = 2.220D-16\n",
      " N =            5     M =           10\n",
      "\n",
      "At X0         0 variables are exactly at the bounds\n",
      "\n",
      "At iterate    0    f=  3.66059D+03    |proj g|=  5.38415D+01\n",
      "\n",
      "At iterate    1    f=  3.41647D+03    |proj g|=  3.05864D+01\n",
      "\n",
      "At iterate    2    f=  3.39782D+03    |proj g|=  3.56736D+00\n",
      "\n",
      "At iterate    3    f=  3.39717D+03    |proj g|=  3.25854D+00\n",
      "\n",
      "At iterate    4    f=  3.39657D+03    |proj g|=  3.01007D+00\n",
      "\n",
      "At iterate    5    f=  3.39276D+03    |proj g|=  3.16101D+00\n",
      "\n",
      "At iterate    6    f=  3.38810D+03    |proj g|=  3.67285D+00\n",
      "\n",
      "At iterate    7    f=  3.38543D+03    |proj g|=  1.59508D+00\n",
      "\n",
      "At iterate    8    f=  3.38427D+03    |proj g|=  8.28926D-01\n",
      "\n",
      "At iterate    9    f=  3.38387D+03    |proj g|=  1.83667D-01\n",
      "\n",
      "At iterate   10    f=  3.38381D+03    |proj g|=  1.60535D-01\n",
      "\n",
      "At iterate   11    f=  3.38371D+03    |proj g|=  1.39452D-01\n",
      "\n",
      "At iterate   12    f=  3.38342D+03    |proj g|=  1.16830D+00\n",
      "\n",
      "At iterate   13    f=  3.38325D+03    |proj g|=  6.34520D-01\n",
      "\n",
      "At iterate   14    f=  3.38308D+03    |proj g|=  1.14328D+00\n",
      "\n",
      "At iterate   15    f=  3.38303D+03    |proj g|=  7.12040D-01\n",
      "\n",
      "At iterate   16    f=  3.38298D+03    |proj g|=  3.58264D-01\n",
      "\n",
      "At iterate   17    f=  3.38297D+03    |proj g|=  3.35954D-02\n",
      "\n",
      "At iterate   18    f=  3.38297D+03    |proj g|=  3.32620D-02\n",
      "\n",
      "At iterate   19    f=  3.38296D+03    |proj g|=  3.18781D-02\n",
      "\n",
      "At iterate   20    f=  3.38296D+03    |proj g|=  7.19160D-02\n",
      "\n",
      "At iterate   21    f=  3.38295D+03    |proj g|=  1.20439D-01\n",
      "\n",
      "At iterate   22    f=  3.38294D+03    |proj g|=  1.37578D-01\n",
      "\n",
      "At iterate   23    f=  3.38293D+03    |proj g|=  1.44765D-01\n",
      "\n",
      "At iterate   24    f=  3.38293D+03    |proj g|=  1.17114D-01\n",
      "\n",
      "At iterate   25    f=  3.38293D+03    |proj g|=  1.83974D-01\n",
      "\n",
      "At iterate   26    f=  3.38293D+03    |proj g|=  5.89009D-02\n",
      "\n",
      "At iterate   27    f=  3.38293D+03    |proj g|=  1.20188D-02\n",
      "\n",
      "At iterate   28    f=  3.38293D+03    |proj g|=  3.99244D-04\n",
      "\n",
      "At iterate   29    f=  3.38293D+03    |proj g|=  3.75720D-05\n",
      "\n",
      "           * * *\n",
      "\n",
      "Tit   = total number of iterations\n",
      "Tnf   = total number of function evaluations\n",
      "Tnint = total number of segments explored during Cauchy searches\n",
      "Skip  = number of BFGS updates skipped\n",
      "Nact  = number of active bounds at final generalized Cauchy point\n",
      "Projg = norm of the final projected gradient\n",
      "F     = final function value\n",
      "\n",
      "           * * *\n",
      "\n",
      "   N    Tit     Tnf  Tnint  Skip  Nact     Projg        F\n",
      "    5     29     35      1     0     0   3.757D-05   3.383D+03\n",
      "  F =   3382.9256338475288     \n",
      "\n",
      "CONVERGENCE: REL_REDUCTION_OF_F_<=_FACTR*EPSMCH             \n"
     ]
    }
   ],
   "source": [
    "testcol = [0,1]\n",
    "cpc = ComparePCurve(Xlist, ylist, testcol)"
   ]
  },
  {
   "cell_type": "code",
   "execution_count": 4,
   "metadata": {},
   "outputs": [
    {
     "name": "stdout",
     "output_type": "stream",
     "text": [
      "Weighted diff        : -12.75\n",
      "Weighted stat diff   : -0.71\n",
      "Scaled diff          : -19.23\n",
      "Scaled stat diff     : -0.67\n",
      "Unweighted diff      : -18.91\n",
      "Unweighted stat diff : -0.66\n"
     ]
    }
   ],
   "source": [
    "print (\"Weighted diff        : {}\".format(cpc.weighted_diff))\n",
    "print (\"Weighted stat diff   : {}\".format(cpc.weighted_stat_diff))\n",
    "print (\"Scaled diff          : {}\".format(cpc.scaled_diff))\n",
    "print (\"Scaled stat diff     : {}\".format(cpc.scaled_stat_diff))\n",
    "print (\"Unweighted diff      : {}\".format(cpc.unweighted_diff))\n",
    "print (\"Unweighted stat diff : {}\".format(cpc.unweighted_stat_diff))"
   ]
  },
  {
   "cell_type": "code",
   "execution_count": 5,
   "metadata": {},
   "outputs": [],
   "source": [
    "weights = np.random.weibull(5, len(cpc.mu_diff))\n",
    "weights = weights/sum(weights)\n",
    "\n",
    "diff = cpc.compute_weighted_difference(weights) "
   ]
  },
  {
   "cell_type": "code",
   "execution_count": 6,
   "metadata": {},
   "outputs": [
    {
     "data": {
      "text/plain": [
       "-18.78"
      ]
     },
     "execution_count": 6,
     "metadata": {},
     "output_type": "execute_result"
    }
   ],
   "source": [
    "diff"
   ]
  }
 ],
 "metadata": {
  "kernelspec": {
   "display_name": "Python 3.9.7 ('condapy')",
   "language": "python",
   "name": "python3"
  },
  "language_info": {
   "codemirror_mode": {
    "name": "ipython",
    "version": 3
   },
   "file_extension": ".py",
   "mimetype": "text/x-python",
   "name": "python",
   "nbconvert_exporter": "python",
   "pygments_lexer": "ipython3",
   "version": "3.9.7"
  },
  "orig_nbformat": 4,
  "vscode": {
   "interpreter": {
    "hash": "967c564a01867f0f436712dde72deb86cc3132cc823789aeffdae4794d2fc619"
   }
  }
 },
 "nbformat": 4,
 "nbformat_minor": 2
}
