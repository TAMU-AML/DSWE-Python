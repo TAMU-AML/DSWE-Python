{
 "cells": [
  {
   "cell_type": "code",
   "execution_count": 1,
   "metadata": {},
   "outputs": [],
   "source": [
    "import numpy as np\n",
    "import pandas as pd\n",
    "from dswe import SVMPowerCurve"
   ]
  },
  {
   "cell_type": "markdown",
   "metadata": {},
   "source": [
    "## Verifying SVMPowerCurve outputs with R outputs on a random input"
   ]
  },
  {
   "cell_type": "code",
   "execution_count": 2,
   "metadata": {},
   "outputs": [],
   "source": [
    "X_train = np.arange(1,17).reshape(4, 4).T\n",
    "y_train = np.arange(17,21)\n",
    "X_test = X_train"
   ]
  },
  {
   "cell_type": "code",
   "execution_count": 3,
   "metadata": {},
   "outputs": [],
   "source": [
    "clf = SVMPowerCurve()\n",
    "clf.fit(X_train, y_train)\n",
    "pred = clf.predict(X_test)"
   ]
  },
  {
   "cell_type": "code",
   "execution_count": 4,
   "metadata": {},
   "outputs": [
    {
     "data": {
      "text/plain": [
       "array([17, 18, 19, 20])"
      ]
     },
     "execution_count": 4,
     "metadata": {},
     "output_type": "execute_result"
    }
   ],
   "source": [
    "## R outputs: 17.21484 17.90860 19.09140 19.78516\n",
    "## Actual outputs = [17, 18, 19, 20]\n",
    "pred"
   ]
  },
  {
   "cell_type": "markdown",
   "metadata": {},
   "source": [
    "## Verifying SVMPowerCurve outputs with R on a wind dataset"
   ]
  },
  {
   "cell_type": "code",
   "execution_count": 5,
   "metadata": {},
   "outputs": [],
   "source": [
    "df = pd.read_csv('../../Inland_Offshore_Wind_Farm_Dataset1/Inland Wind Farm Dataset1(WT1).csv')\n",
    "X_train = df.iloc[:100, [1,2,3,4]].values\n",
    "y_train = df.iloc[:100, 6].values\n",
    "X_test = df.iloc[100:110, [1,2,3,4]].values\n",
    "y_test = df.iloc[100:110, 6].values"
   ]
  },
  {
   "cell_type": "code",
   "execution_count": 6,
   "metadata": {},
   "outputs": [],
   "source": [
    "clf = SVMPowerCurve()\n",
    "clf.fit(X_train, y_train)\n",
    "pred = clf.predict(X_test)"
   ]
  },
  {
   "cell_type": "code",
   "execution_count": 7,
   "metadata": {},
   "outputs": [
    {
     "data": {
      "text/plain": [
       "array([ 3.82641404,  3.93851909,  6.44747753,  6.89594511,  8.66601587,\n",
       "        9.33134373, 10.72174076, 19.14148183, 19.94223051, 20.11695447])"
      ]
     },
     "execution_count": 7,
     "metadata": {},
     "output_type": "execute_result"
    }
   ],
   "source": [
    "## R outputs: 3.832973  3.944322  6.433712  6.871312  8.629182  9.289686 10.673113 19.111150 19.923431 20.100764 \n",
    "pred"
   ]
  }
 ],
 "metadata": {
  "interpreter": {
   "hash": "967c564a01867f0f436712dde72deb86cc3132cc823789aeffdae4794d2fc619"
  },
  "kernelspec": {
   "display_name": "Python 3.9.7 ('condapy')",
   "language": "python",
   "name": "python3"
  },
  "language_info": {
   "codemirror_mode": {
    "name": "ipython",
    "version": 3
   },
   "file_extension": ".py",
   "mimetype": "text/x-python",
   "name": "python",
   "nbconvert_exporter": "python",
   "pygments_lexer": "ipython3",
   "version": "3.9.7"
  },
  "orig_nbformat": 4
 },
 "nbformat": 4,
 "nbformat_minor": 2
}
