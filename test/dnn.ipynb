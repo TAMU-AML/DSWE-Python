{
 "cells": [
  {
   "cell_type": "code",
   "execution_count": 1,
   "metadata": {},
   "outputs": [],
   "source": [
    "from dswe import DNNPowerCurve\n",
    "import pandas as pd\n",
    "import numpy as np"
   ]
  },
  {
   "cell_type": "code",
   "execution_count": 2,
   "metadata": {},
   "outputs": [],
   "source": [
    "df = pd.read_csv('../../../Desktop/DSWE/DNN/Inland_Offshore_Wind_Farm_Dataset1/Inland Wind Farm Dataset1(WT1).csv')"
   ]
  },
  {
   "cell_type": "code",
   "execution_count": 3,
   "metadata": {},
   "outputs": [],
   "source": [
    "X = df.iloc[:,1:6].values\n",
    "y = df.iloc[:,6].values\n",
    "\n",
    "X_train = X[:40000]\n",
    "y_train = y[:40000]\n",
    "\n",
    "X_test = X[40000:]\n",
    "y_test = y[40000:]"
   ]
  },
  {
   "cell_type": "code",
   "execution_count": 4,
   "metadata": {},
   "outputs": [
    {
     "data": {
      "text/plain": [
       "((40000, 5), (40000,))"
      ]
     },
     "execution_count": 4,
     "metadata": {},
     "output_type": "execute_result"
    }
   ],
   "source": [
    "X_train.shape, y_train.shape"
   ]
  },
  {
   "cell_type": "code",
   "execution_count": 5,
   "metadata": {},
   "outputs": [
    {
     "name": "stdout",
     "output_type": "stream",
     "text": [
      "--Initiating training for fold 1--\n",
      "Fold 1 val loss: 8.710\n",
      "--Initiating training for fold 2--\n",
      "Fold 2 val loss: 8.513\n",
      "--Initiating training for fold 3--\n",
      "Fold 3 val loss: 8.570\n",
      "--Initiating training for fold 4--\n",
      "Fold 4 val loss: 8.346\n",
      "--Initiating training for fold 5--\n",
      "Fold 5 val loss: 8.550\n",
      "Average loss on 5-fold cross-validation: 8.538\n",
      "Everything done!!\n"
     ]
    }
   ],
   "source": [
    "# Train DNN on training data points with train_all=False, it means split train set into new train and val set.\n",
    "# It's an important step to check how the model is performing on the validation set before actual predicting on test set.\n",
    "dnn = DNNPowerCurve(train_all=False, save_fig=False)\n",
    "dnn.train(X_train, y_train)\n"
   ]
  },
  {
   "cell_type": "code",
   "execution_count": 6,
   "metadata": {},
   "outputs": [
    {
     "name": "stdout",
     "output_type": "stream",
     "text": [
      "--Initiating training on the entire dataset--\n",
      "Everything done!!\n"
     ]
    }
   ],
   "source": [
    "# After doing the cross-validation and checking the model performance, set train_all=True.\n",
    "# Because it's better to train the model on the entire train set before predicting on test set.\n",
    "dnn = DNNPowerCurve(train_all=True, save_fig=False)\n",
    "dnn.train(X_train, y_train)\n",
    "pred = dnn.predict(X_test)"
   ]
  },
  {
   "cell_type": "code",
   "execution_count": 7,
   "metadata": {},
   "outputs": [
    {
     "name": "stdout",
     "output_type": "stream",
     "text": [
      "RMSE : 7.518882605318972\n"
     ]
    }
   ],
   "source": [
    "## Calculate RMSE \n",
    "print (\"RMSE : {}\".format(dnn.calculate_rmse(X_test, y_test)))"
   ]
  },
  {
   "cell_type": "code",
   "execution_count": null,
   "metadata": {},
   "outputs": [],
   "source": []
  }
 ],
 "metadata": {
  "kernelspec": {
   "display_name": "Python 3.9.7 ('condapy')",
   "language": "python",
   "name": "python3"
  },
  "language_info": {
   "codemirror_mode": {
    "name": "ipython",
    "version": 3
   },
   "file_extension": ".py",
   "mimetype": "text/x-python",
   "name": "python",
   "nbconvert_exporter": "python",
   "pygments_lexer": "ipython3",
   "version": "3.9.7"
  },
  "orig_nbformat": 4,
  "vscode": {
   "interpreter": {
    "hash": "967c564a01867f0f436712dde72deb86cc3132cc823789aeffdae4794d2fc619"
   }
  }
 },
 "nbformat": 4,
 "nbformat_minor": 2
}
