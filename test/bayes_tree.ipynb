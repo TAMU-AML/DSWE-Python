{
 "cells": [
  {
   "cell_type": "code",
   "execution_count": 1,
   "metadata": {},
   "outputs": [],
   "source": [
    "import numpy as np\n",
    "import pandas as pd\n",
    "import random\n",
    "from dswe import BayesTreePowerCurve"
   ]
  },
  {
   "cell_type": "markdown",
   "metadata": {},
   "source": [
    "## Verifying SVMPowerCurve outputs with R outputs on a random input"
   ]
  },
  {
   "cell_type": "code",
   "execution_count": 9,
   "metadata": {},
   "outputs": [],
   "source": [
    "X_train = np.arange(1,17).reshape(4, 4).T\n",
    "y_train = np.arange(17,21)\n",
    "X_test = X_train"
   ]
  },
  {
   "cell_type": "code",
   "execution_count": 10,
   "metadata": {},
   "outputs": [
    {
     "name": "stderr",
     "output_type": "stream",
     "text": [
      "  0%|          | 1/200 [00:00<00:40,  4.97it/s]/opt/homebrew/Caskroom/miniforge/base/envs/condapy/lib/python3.9/site-packages/bartpy/samplers/unconstrainedtree/likihoodratio.py:93: RuntimeWarning: invalid value encountered in log\n",
      "  prob_grow_node_selected = - np.log(n_splittable_leaf_nodes(tree) - 1)\n"
     ]
    },
    {
     "name": "stdout",
     "output_type": "stream",
     "text": [
      "Starting burn\n",
      "Starting burn\n",
      "Starting burn\n",
      "Starting burn\n"
     ]
    },
    {
     "name": "stderr",
     "output_type": "stream",
     "text": [
      "100%|██████████| 200/200 [00:10<00:00, 19.59it/s]\n",
      "100%|██████████| 200/200 [00:10<00:00, 19.42it/s]\n",
      "100%|██████████| 200/200 [00:10<00:00, 19.34it/s]\n",
      "100%|██████████| 200/200 [00:10<00:00, 19.61it/s]\n",
      "  2%|▏         | 3/200 [00:00<00:08, 22.90it/s]"
     ]
    },
    {
     "name": "stdout",
     "output_type": "stream",
     "text": [
      "Starting sampling\n",
      "Starting sampling\n",
      "Starting sampling\n",
      "Starting sampling\n"
     ]
    },
    {
     "name": "stderr",
     "output_type": "stream",
     "text": [
      "100%|██████████| 200/200 [00:09<00:00, 22.10it/s]\n",
      "100%|██████████| 200/200 [00:09<00:00, 21.80it/s]\n",
      "100%|██████████| 200/200 [00:09<00:00, 21.76it/s]\n",
      "100%|██████████| 200/200 [00:09<00:00, 21.72it/s]\n"
     ]
    }
   ],
   "source": [
    "clf = BayesTreePowerCurve(X_train, y_train)\n",
    "pred = clf.predict(X_test)"
   ]
  },
  {
   "cell_type": "code",
   "execution_count": 11,
   "metadata": {},
   "outputs": [
    {
     "data": {
      "text/plain": [
       "array([17.02855798, 18.0016711 , 18.99868008, 19.97206233])"
      ]
     },
     "execution_count": 11,
     "metadata": {},
     "output_type": "execute_result"
    }
   ],
   "source": [
    "## R outputs: [1] 17 18 19 20\n",
    "\n",
    "pred"
   ]
  },
  {
   "cell_type": "markdown",
   "metadata": {},
   "source": [
    "## Verifying SVMPowerCurve outputs with R on a wind dataset"
   ]
  },
  {
   "cell_type": "code",
   "execution_count": 2,
   "metadata": {},
   "outputs": [],
   "source": [
    "df = pd.read_csv('../../Inland_Offshore_Wind_Farm_Dataset1/Inland Wind Farm Dataset1(WT1).csv')\n",
    "X_train = df.iloc[:100, [1,2,3,4]].values\n",
    "y_train = df.iloc[:100, 6].values\n",
    "X_test = df.iloc[100:110, [1,2,3,4]].values\n",
    "y_test = df.iloc[100:110, 6].values"
   ]
  },
  {
   "cell_type": "code",
   "execution_count": 5,
   "metadata": {},
   "outputs": [
    {
     "name": "stdout",
     "output_type": "stream",
     "text": [
      "Starting burn\n"
     ]
    },
    {
     "name": "stderr",
     "output_type": "stream",
     "text": [
      "  0%|          | 0/200 [00:00<?, ?it/s]8.96it/s]"
     ]
    },
    {
     "name": "stdout",
     "output_type": "stream",
     "text": [
      "Starting burn\n",
      "Starting burn\n",
      "Starting burn\n"
     ]
    },
    {
     "name": "stderr",
     "output_type": "stream",
     "text": [
      "100%|██████████| 200/200 [00:11<00:00, 18.16it/s]\n",
      " 96%|█████████▌| 191/200 [00:10<00:00, 19.93it/s]"
     ]
    },
    {
     "name": "stdout",
     "output_type": "stream",
     "text": [
      "Starting sampling\n"
     ]
    },
    {
     "name": "stderr",
     "output_type": "stream",
     "text": [
      "100%|██████████| 200/200 [00:10<00:00, 18.40it/s]\n",
      "100%|██████████| 200/200 [00:10<00:00, 18.27it/s]\n",
      "100%|██████████| 200/200 [00:11<00:00, 18.15it/s]\n",
      "  0%|          | 0/200 [00:00<?, ?it/s]"
     ]
    },
    {
     "name": "stdout",
     "output_type": "stream",
     "text": [
      "Starting sampling\n",
      "Starting sampling\n",
      "Starting sampling\n"
     ]
    },
    {
     "name": "stderr",
     "output_type": "stream",
     "text": [
      "100%|██████████| 200/200 [00:10<00:00, 19.19it/s]\n",
      "100%|██████████| 200/200 [00:10<00:00, 19.47it/s]\n",
      "100%|██████████| 200/200 [00:10<00:00, 19.48it/s]\n",
      "100%|██████████| 200/200 [00:10<00:00, 19.31it/s]\n"
     ]
    }
   ],
   "source": [
    "random.seed(1)\n",
    "clf = BayesTreePowerCurve(X_train, y_train)\n",
    "pred = clf.predict(X_test)"
   ]
  },
  {
   "cell_type": "code",
   "execution_count": 4,
   "metadata": {},
   "outputs": [
    {
     "data": {
      "text/plain": [
       "array([ 5.41647362,  5.53352227,  4.09661889,  5.24522169,  4.56662173,\n",
       "        3.99310857,  7.70507665, 12.47277589, 10.89936482, 13.15729743])"
      ]
     },
     "execution_count": 4,
     "metadata": {},
     "output_type": "execute_result"
    }
   ],
   "source": [
    "## R outputs: [1]  4.489055  5.145760  3.918824  4.506029  4.548529  5.949380  5.885395 10.575446 10.136648 11.625397\n",
    "##            [1]  4.908871  5.261199  3.838104  4.550532  4.532476  5.396801  5.896479  9.715911  9.319047  9.873712      \n",
    "## (ran 2 times)\n",
    "\n",
    "pred"
   ]
  },
  {
   "cell_type": "code",
   "execution_count": 6,
   "metadata": {},
   "outputs": [
    {
     "data": {
      "text/plain": [
       "array([ 5.65334398,  6.08692851,  4.23905672,  5.19493545,  4.87002943,\n",
       "        5.11559125,  7.59129997, 10.59236674, 10.20951398, 11.63146463])"
      ]
     },
     "execution_count": 6,
     "metadata": {},
     "output_type": "execute_result"
    }
   ],
   "source": [
    "pred"
   ]
  },
  {
   "cell_type": "code",
   "execution_count": 7,
   "metadata": {},
   "outputs": [],
   "source": [
    "# 4.815239  5.121856  3.693283  5.176517  4.080357  5.260815  6.063750 10.747272 10.241911 11.064810"
   ]
  },
  {
   "cell_type": "code",
   "execution_count": null,
   "metadata": {},
   "outputs": [],
   "source": []
  }
 ],
 "metadata": {
  "interpreter": {
   "hash": "967c564a01867f0f436712dde72deb86cc3132cc823789aeffdae4794d2fc619"
  },
  "kernelspec": {
   "display_name": "Python 3.9.7 ('condapy')",
   "language": "python",
   "name": "python3"
  },
  "language_info": {
   "codemirror_mode": {
    "name": "ipython",
    "version": 3
   },
   "file_extension": ".py",
   "mimetype": "text/x-python",
   "name": "python",
   "nbconvert_exporter": "python",
   "pygments_lexer": "ipython3",
   "version": "3.9.7"
  },
  "orig_nbformat": 4
 },
 "nbformat": 4,
 "nbformat_minor": 2
}
