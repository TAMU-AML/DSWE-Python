{
 "cells": [
  {
   "cell_type": "code",
   "execution_count": 1,
   "id": "39855976",
   "metadata": {},
   "outputs": [],
   "source": [
    "from dswe import KNNPowerCurve\n",
    "import numpy as np\n",
    "import pandas as pd"
   ]
  },
  {
   "cell_type": "markdown",
   "id": "81a2ce26",
   "metadata": {},
   "source": [
    "### Load dataset"
   ]
  },
  {
   "cell_type": "code",
   "execution_count": 2,
   "id": "5abc9f74",
   "metadata": {},
   "outputs": [],
   "source": [
    "df = pd.read_csv('../../../Downloads/Inland_Offshore_Wind_Farm_Dataset1/Inland Wind Farm Dataset1(WT1).csv')"
   ]
  },
  {
   "cell_type": "code",
   "execution_count": 3,
   "id": "9f51eb17",
   "metadata": {},
   "outputs": [
    {
     "data": {
      "text/html": [
       "<div>\n",
       "<style scoped>\n",
       "    .dataframe tbody tr th:only-of-type {\n",
       "        vertical-align: middle;\n",
       "    }\n",
       "\n",
       "    .dataframe tbody tr th {\n",
       "        vertical-align: top;\n",
       "    }\n",
       "\n",
       "    .dataframe thead th {\n",
       "        text-align: right;\n",
       "    }\n",
       "</style>\n",
       "<table border=\"1\" class=\"dataframe\">\n",
       "  <thead>\n",
       "    <tr style=\"text-align: right;\">\n",
       "      <th></th>\n",
       "      <th>Sequence No.</th>\n",
       "      <th>V</th>\n",
       "      <th>D</th>\n",
       "      <th>air density</th>\n",
       "      <th>I</th>\n",
       "      <th>S_b</th>\n",
       "      <th>y (% relative to rated power)</th>\n",
       "    </tr>\n",
       "  </thead>\n",
       "  <tbody>\n",
       "    <tr>\n",
       "      <th>0</th>\n",
       "      <td>1</td>\n",
       "      <td>7.96</td>\n",
       "      <td>138.9</td>\n",
       "      <td>1.140224</td>\n",
       "      <td>0.090452</td>\n",
       "      <td>0.266512</td>\n",
       "      <td>39.315152</td>\n",
       "    </tr>\n",
       "    <tr>\n",
       "      <th>1</th>\n",
       "      <td>2</td>\n",
       "      <td>8.19</td>\n",
       "      <td>140.6</td>\n",
       "      <td>1.140522</td>\n",
       "      <td>0.083028</td>\n",
       "      <td>0.286167</td>\n",
       "      <td>45.745455</td>\n",
       "    </tr>\n",
       "    <tr>\n",
       "      <th>2</th>\n",
       "      <td>3</td>\n",
       "      <td>7.20</td>\n",
       "      <td>139.3</td>\n",
       "      <td>1.140771</td>\n",
       "      <td>0.098611</td>\n",
       "      <td>0.339321</td>\n",
       "      <td>38.212121</td>\n",
       "    </tr>\n",
       "    <tr>\n",
       "      <th>3</th>\n",
       "      <td>4</td>\n",
       "      <td>6.81</td>\n",
       "      <td>137.4</td>\n",
       "      <td>1.141186</td>\n",
       "      <td>0.101322</td>\n",
       "      <td>0.375815</td>\n",
       "      <td>28.218182</td>\n",
       "    </tr>\n",
       "    <tr>\n",
       "      <th>4</th>\n",
       "      <td>5</td>\n",
       "      <td>5.09</td>\n",
       "      <td>137.5</td>\n",
       "      <td>1.141464</td>\n",
       "      <td>0.165029</td>\n",
       "      <td>0.303472</td>\n",
       "      <td>12.721212</td>\n",
       "    </tr>\n",
       "  </tbody>\n",
       "</table>\n",
       "</div>"
      ],
      "text/plain": [
       "   Sequence No.     V      D  air density         I       S_b  \\\n",
       "0             1  7.96  138.9     1.140224  0.090452  0.266512   \n",
       "1             2  8.19  140.6     1.140522  0.083028  0.286167   \n",
       "2             3  7.20  139.3     1.140771  0.098611  0.339321   \n",
       "3             4  6.81  137.4     1.141186  0.101322  0.375815   \n",
       "4             5  5.09  137.5     1.141464  0.165029  0.303472   \n",
       "\n",
       "   y (% relative to rated power)  \n",
       "0                      39.315152  \n",
       "1                      45.745455  \n",
       "2                      38.212121  \n",
       "3                      28.218182  \n",
       "4                      12.721212  "
      ]
     },
     "execution_count": 3,
     "metadata": {},
     "output_type": "execute_result"
    }
   ],
   "source": [
    "df.head()"
   ]
  },
  {
   "cell_type": "code",
   "execution_count": 4,
   "id": "970d8cf0",
   "metadata": {},
   "outputs": [
    {
     "data": {
      "text/plain": [
       "(47542, 7)"
      ]
     },
     "execution_count": 4,
     "metadata": {},
     "output_type": "execute_result"
    }
   ],
   "source": [
    "df.shape"
   ]
  },
  {
   "cell_type": "code",
   "execution_count": 5,
   "id": "71f1ff56",
   "metadata": {},
   "outputs": [],
   "source": [
    "X_train = df.iloc[:4000, 1:6]\n",
    "y_train = df.iloc[:4000, 6]"
   ]
  },
  {
   "cell_type": "markdown",
   "id": "84842c6d",
   "metadata": {},
   "source": [
    "### Fit a KNN Power Curve"
   ]
  },
  {
   "cell_type": "code",
   "execution_count": 6,
   "id": "369962d8",
   "metadata": {},
   "outputs": [
    {
     "data": {
      "text/plain": [
       "<dswe.knn.KNNPowerCurve at 0x12ca76700>"
      ]
     },
     "execution_count": 6,
     "metadata": {},
     "output_type": "execute_result"
    }
   ],
   "source": [
    "knn_model = KNNPowerCurve()\n",
    "knn_model.fit(X_train, y_train)"
   ]
  },
  {
   "cell_type": "code",
   "execution_count": 7,
   "id": "a90215fe",
   "metadata": {},
   "outputs": [
    {
     "name": "stdout",
     "output_type": "stream",
     "text": [
      "Best K: 5,  Best RMSE: 6.962076541445866\n"
     ]
    }
   ],
   "source": [
    "print (f\"Best K: {knn_model.best_k},  Best RMSE: {knn_model.best_rmse}\")"
   ]
  },
  {
   "cell_type": "markdown",
   "id": "f238fee1",
   "metadata": {},
   "source": [
    "### Predict on the trained model"
   ]
  },
  {
   "cell_type": "code",
   "execution_count": 8,
   "id": "c0699f43",
   "metadata": {},
   "outputs": [],
   "source": [
    "X_test = df.iloc[4000:4100, 1:6]\n",
    "y_test = df.iloc[4000:4100, 6]"
   ]
  },
  {
   "cell_type": "code",
   "execution_count": 9,
   "id": "f262f2b1",
   "metadata": {},
   "outputs": [],
   "source": [
    "pred = knn_model.predict(X_test)"
   ]
  },
  {
   "cell_type": "code",
   "execution_count": 10,
   "id": "4e8b7ee4",
   "metadata": {
    "scrolled": true
   },
   "outputs": [
    {
     "data": {
      "text/html": [
       "<div>\n",
       "<style scoped>\n",
       "    .dataframe tbody tr th:only-of-type {\n",
       "        vertical-align: middle;\n",
       "    }\n",
       "\n",
       "    .dataframe tbody tr th {\n",
       "        vertical-align: top;\n",
       "    }\n",
       "\n",
       "    .dataframe thead th {\n",
       "        text-align: right;\n",
       "    }\n",
       "</style>\n",
       "<table border=\"1\" class=\"dataframe\">\n",
       "  <thead>\n",
       "    <tr style=\"text-align: right;\">\n",
       "      <th></th>\n",
       "      <th>Actual</th>\n",
       "      <th>Prediction</th>\n",
       "    </tr>\n",
       "  </thead>\n",
       "  <tbody>\n",
       "    <tr>\n",
       "      <th>0</th>\n",
       "      <td>98.800000</td>\n",
       "      <td>95.786667</td>\n",
       "    </tr>\n",
       "    <tr>\n",
       "      <th>1</th>\n",
       "      <td>97.745455</td>\n",
       "      <td>94.178182</td>\n",
       "    </tr>\n",
       "    <tr>\n",
       "      <th>2</th>\n",
       "      <td>100.727273</td>\n",
       "      <td>95.812121</td>\n",
       "    </tr>\n",
       "    <tr>\n",
       "      <th>3</th>\n",
       "      <td>97.872727</td>\n",
       "      <td>95.444848</td>\n",
       "    </tr>\n",
       "    <tr>\n",
       "      <th>4</th>\n",
       "      <td>87.454545</td>\n",
       "      <td>97.831515</td>\n",
       "    </tr>\n",
       "    <tr>\n",
       "      <th>5</th>\n",
       "      <td>86.824242</td>\n",
       "      <td>95.419394</td>\n",
       "    </tr>\n",
       "    <tr>\n",
       "      <th>6</th>\n",
       "      <td>95.466667</td>\n",
       "      <td>98.833939</td>\n",
       "    </tr>\n",
       "    <tr>\n",
       "      <th>7</th>\n",
       "      <td>94.284848</td>\n",
       "      <td>94.178182</td>\n",
       "    </tr>\n",
       "    <tr>\n",
       "      <th>8</th>\n",
       "      <td>82.903030</td>\n",
       "      <td>94.178182</td>\n",
       "    </tr>\n",
       "    <tr>\n",
       "      <th>9</th>\n",
       "      <td>84.569697</td>\n",
       "      <td>95.373333</td>\n",
       "    </tr>\n",
       "  </tbody>\n",
       "</table>\n",
       "</div>"
      ],
      "text/plain": [
       "       Actual  Prediction\n",
       "0   98.800000   95.786667\n",
       "1   97.745455   94.178182\n",
       "2  100.727273   95.812121\n",
       "3   97.872727   95.444848\n",
       "4   87.454545   97.831515\n",
       "5   86.824242   95.419394\n",
       "6   95.466667   98.833939\n",
       "7   94.284848   94.178182\n",
       "8   82.903030   94.178182\n",
       "9   84.569697   95.373333"
      ]
     },
     "execution_count": 10,
     "metadata": {},
     "output_type": "execute_result"
    }
   ],
   "source": [
    "output = pd.DataFrame(columns=['Actual', 'Prediction'])\n",
    "output['Actual'] = y_test\n",
    "output['Prediction'] = pred\n",
    "output = output.reset_index(drop=True)\n",
    "output.head(10)"
   ]
  },
  {
   "cell_type": "markdown",
   "id": "6ab1f2e9",
   "metadata": {},
   "source": [
    "### Update the model for new dataset"
   ]
  },
  {
   "cell_type": "code",
   "execution_count": 11,
   "id": "253c29f1",
   "metadata": {},
   "outputs": [],
   "source": [
    "X_update = df.iloc[4000:6000, 1:6]\n",
    "y_update = df.iloc[4000:6000, 6]"
   ]
  },
  {
   "cell_type": "code",
   "execution_count": 12,
   "id": "139bb799",
   "metadata": {},
   "outputs": [
    {
     "data": {
      "text/plain": [
       "<dswe.knn.KNNPowerCurve at 0x12ca76700>"
      ]
     },
     "execution_count": 12,
     "metadata": {},
     "output_type": "execute_result"
    }
   ],
   "source": [
    "knn_model.update(X_update, y_update)"
   ]
  },
  {
   "cell_type": "markdown",
   "id": "298899ce",
   "metadata": {},
   "source": [
    "### Prediction on new test dataset"
   ]
  },
  {
   "cell_type": "code",
   "execution_count": 13,
   "id": "10cd9391",
   "metadata": {},
   "outputs": [],
   "source": [
    "X_test_new = df.iloc[6000:6100, 1:6]\n",
    "y_test_new = df.iloc[6000:6100, 6]"
   ]
  },
  {
   "cell_type": "code",
   "execution_count": 14,
   "id": "22ef6053",
   "metadata": {},
   "outputs": [],
   "source": [
    "pred2 = knn_model.predict(X_test_new)"
   ]
  },
  {
   "cell_type": "code",
   "execution_count": 15,
   "id": "1834997e",
   "metadata": {},
   "outputs": [
    {
     "data": {
      "text/html": [
       "<div>\n",
       "<style scoped>\n",
       "    .dataframe tbody tr th:only-of-type {\n",
       "        vertical-align: middle;\n",
       "    }\n",
       "\n",
       "    .dataframe tbody tr th {\n",
       "        vertical-align: top;\n",
       "    }\n",
       "\n",
       "    .dataframe thead th {\n",
       "        text-align: right;\n",
       "    }\n",
       "</style>\n",
       "<table border=\"1\" class=\"dataframe\">\n",
       "  <thead>\n",
       "    <tr style=\"text-align: right;\">\n",
       "      <th></th>\n",
       "      <th>Actual</th>\n",
       "      <th>Prediction</th>\n",
       "    </tr>\n",
       "  </thead>\n",
       "  <tbody>\n",
       "    <tr>\n",
       "      <th>0</th>\n",
       "      <td>66.200000</td>\n",
       "      <td>64.730303</td>\n",
       "    </tr>\n",
       "    <tr>\n",
       "      <th>1</th>\n",
       "      <td>75.381818</td>\n",
       "      <td>45.631818</td>\n",
       "    </tr>\n",
       "    <tr>\n",
       "      <th>2</th>\n",
       "      <td>53.133333</td>\n",
       "      <td>52.316667</td>\n",
       "    </tr>\n",
       "    <tr>\n",
       "      <th>3</th>\n",
       "      <td>31.751515</td>\n",
       "      <td>18.303030</td>\n",
       "    </tr>\n",
       "    <tr>\n",
       "      <th>4</th>\n",
       "      <td>28.896970</td>\n",
       "      <td>29.419697</td>\n",
       "    </tr>\n",
       "    <tr>\n",
       "      <th>5</th>\n",
       "      <td>49.690909</td>\n",
       "      <td>29.631818</td>\n",
       "    </tr>\n",
       "    <tr>\n",
       "      <th>6</th>\n",
       "      <td>37.812121</td>\n",
       "      <td>28.696970</td>\n",
       "    </tr>\n",
       "    <tr>\n",
       "      <th>7</th>\n",
       "      <td>56.539394</td>\n",
       "      <td>39.418182</td>\n",
       "    </tr>\n",
       "    <tr>\n",
       "      <th>8</th>\n",
       "      <td>55.727273</td>\n",
       "      <td>41.016667</td>\n",
       "    </tr>\n",
       "    <tr>\n",
       "      <th>9</th>\n",
       "      <td>39.703030</td>\n",
       "      <td>53.431818</td>\n",
       "    </tr>\n",
       "  </tbody>\n",
       "</table>\n",
       "</div>"
      ],
      "text/plain": [
       "      Actual  Prediction\n",
       "0  66.200000   64.730303\n",
       "1  75.381818   45.631818\n",
       "2  53.133333   52.316667\n",
       "3  31.751515   18.303030\n",
       "4  28.896970   29.419697\n",
       "5  49.690909   29.631818\n",
       "6  37.812121   28.696970\n",
       "7  56.539394   39.418182\n",
       "8  55.727273   41.016667\n",
       "9  39.703030   53.431818"
      ]
     },
     "execution_count": 15,
     "metadata": {},
     "output_type": "execute_result"
    }
   ],
   "source": [
    "output2 = pd.DataFrame(columns=['Actual', 'Prediction'])\n",
    "output2['Actual'] = y_test_new\n",
    "output2['Prediction'] = pred2\n",
    "output2 = output2.reset_index(drop=True)\n",
    "output2.head(10)"
   ]
  },
  {
   "cell_type": "code",
   "execution_count": null,
   "id": "829f0723",
   "metadata": {},
   "outputs": [],
   "source": []
  }
 ],
 "metadata": {
  "kernelspec": {
   "display_name": "Python 3 (ipykernel)",
   "language": "python",
   "name": "python3"
  },
  "language_info": {
   "codemirror_mode": {
    "name": "ipython",
    "version": 3
   },
   "file_extension": ".py",
   "mimetype": "text/x-python",
   "name": "python",
   "nbconvert_exporter": "python",
   "pygments_lexer": "ipython3",
   "version": "3.9.7"
  }
 },
 "nbformat": 4,
 "nbformat_minor": 5
}
