{
 "cells": [
  {
   "cell_type": "code",
   "execution_count": 2,
   "id": "9ce2986c",
   "metadata": {},
   "outputs": [],
   "source": [
    "from dswe import TempGP\n",
    "import numpy as np\n",
    "import pandas as pd"
   ]
  },
  {
   "cell_type": "markdown",
   "id": "11d65178",
   "metadata": {},
   "source": [
    "### Load dataset"
   ]
  },
  {
   "cell_type": "code",
   "execution_count": 6,
   "id": "4ede20d6",
   "metadata": {},
   "outputs": [],
   "source": [
    "df = pd.read_csv('../../../Downloads/Inland_Offshore_Wind_Farm_Dataset1/Inland Wind Farm Dataset1(WT1).csv')"
   ]
  },
  {
   "cell_type": "code",
   "execution_count": 7,
   "id": "24a1d6a8",
   "metadata": {},
   "outputs": [
    {
     "data": {
      "text/html": [
       "<div>\n",
       "<style scoped>\n",
       "    .dataframe tbody tr th:only-of-type {\n",
       "        vertical-align: middle;\n",
       "    }\n",
       "\n",
       "    .dataframe tbody tr th {\n",
       "        vertical-align: top;\n",
       "    }\n",
       "\n",
       "    .dataframe thead th {\n",
       "        text-align: right;\n",
       "    }\n",
       "</style>\n",
       "<table border=\"1\" class=\"dataframe\">\n",
       "  <thead>\n",
       "    <tr style=\"text-align: right;\">\n",
       "      <th></th>\n",
       "      <th>Sequence No.</th>\n",
       "      <th>V</th>\n",
       "      <th>D</th>\n",
       "      <th>air density</th>\n",
       "      <th>I</th>\n",
       "      <th>S_b</th>\n",
       "      <th>y (% relative to rated power)</th>\n",
       "    </tr>\n",
       "  </thead>\n",
       "  <tbody>\n",
       "    <tr>\n",
       "      <th>0</th>\n",
       "      <td>1</td>\n",
       "      <td>7.96</td>\n",
       "      <td>138.9</td>\n",
       "      <td>1.140224</td>\n",
       "      <td>0.090452</td>\n",
       "      <td>0.266512</td>\n",
       "      <td>39.315152</td>\n",
       "    </tr>\n",
       "    <tr>\n",
       "      <th>1</th>\n",
       "      <td>2</td>\n",
       "      <td>8.19</td>\n",
       "      <td>140.6</td>\n",
       "      <td>1.140522</td>\n",
       "      <td>0.083028</td>\n",
       "      <td>0.286167</td>\n",
       "      <td>45.745455</td>\n",
       "    </tr>\n",
       "    <tr>\n",
       "      <th>2</th>\n",
       "      <td>3</td>\n",
       "      <td>7.20</td>\n",
       "      <td>139.3</td>\n",
       "      <td>1.140771</td>\n",
       "      <td>0.098611</td>\n",
       "      <td>0.339321</td>\n",
       "      <td>38.212121</td>\n",
       "    </tr>\n",
       "    <tr>\n",
       "      <th>3</th>\n",
       "      <td>4</td>\n",
       "      <td>6.81</td>\n",
       "      <td>137.4</td>\n",
       "      <td>1.141186</td>\n",
       "      <td>0.101322</td>\n",
       "      <td>0.375815</td>\n",
       "      <td>28.218182</td>\n",
       "    </tr>\n",
       "    <tr>\n",
       "      <th>4</th>\n",
       "      <td>5</td>\n",
       "      <td>5.09</td>\n",
       "      <td>137.5</td>\n",
       "      <td>1.141464</td>\n",
       "      <td>0.165029</td>\n",
       "      <td>0.303472</td>\n",
       "      <td>12.721212</td>\n",
       "    </tr>\n",
       "  </tbody>\n",
       "</table>\n",
       "</div>"
      ],
      "text/plain": [
       "   Sequence No.     V      D  air density         I       S_b  \\\n",
       "0             1  7.96  138.9     1.140224  0.090452  0.266512   \n",
       "1             2  8.19  140.6     1.140522  0.083028  0.286167   \n",
       "2             3  7.20  139.3     1.140771  0.098611  0.339321   \n",
       "3             4  6.81  137.4     1.141186  0.101322  0.375815   \n",
       "4             5  5.09  137.5     1.141464  0.165029  0.303472   \n",
       "\n",
       "   y (% relative to rated power)  \n",
       "0                      39.315152  \n",
       "1                      45.745455  \n",
       "2                      38.212121  \n",
       "3                      28.218182  \n",
       "4                      12.721212  "
      ]
     },
     "execution_count": 7,
     "metadata": {},
     "output_type": "execute_result"
    }
   ],
   "source": [
    "df.head()"
   ]
  },
  {
   "cell_type": "code",
   "execution_count": 8,
   "id": "74bc0238",
   "metadata": {},
   "outputs": [
    {
     "data": {
      "text/plain": [
       "(47542, 7)"
      ]
     },
     "execution_count": 8,
     "metadata": {},
     "output_type": "execute_result"
    }
   ],
   "source": [
    "df.shape"
   ]
  },
  {
   "cell_type": "code",
   "execution_count": 9,
   "id": "f2f3a413",
   "metadata": {},
   "outputs": [],
   "source": [
    "X_train = df.iloc[:1000, 1:6].values\n",
    "y_train = df.iloc[:1000, 6].values\n",
    "T_train = df.iloc[:1000, 0].values"
   ]
  },
  {
   "cell_type": "code",
   "execution_count": 10,
   "id": "a444424f",
   "metadata": {},
   "outputs": [],
   "source": [
    "X_test = df.iloc[1000:1100, 1:6].values\n",
    "y_test = df.iloc[1000:1100, 6].values\n",
    "T_test = df.iloc[1000:1100, 0].values"
   ]
  },
  {
   "cell_type": "code",
   "execution_count": 11,
   "id": "044b6546",
   "metadata": {},
   "outputs": [],
   "source": [
    "X_update = df.iloc[1100:1500, 1:6].values\n",
    "y_update = df.iloc[1100:1500, 6].values\n",
    "T_update = df.iloc[1100:1500, 0].values"
   ]
  },
  {
   "cell_type": "markdown",
   "id": "2cb16a47",
   "metadata": {},
   "source": [
    "### Fit a TempGP model"
   ]
  },
  {
   "cell_type": "code",
   "execution_count": 12,
   "id": "2bc67d31",
   "metadata": {},
   "outputs": [],
   "source": [
    "tempGP_model = TempGP(opt_method='L-BFGS-B')"
   ]
  },
  {
   "cell_type": "code",
   "execution_count": 13,
   "id": "62e19c1b",
   "metadata": {},
   "outputs": [
    {
     "data": {
      "text/plain": [
       "<dswe.tempGP.TempGP at 0x15324a580>"
      ]
     },
     "execution_count": 13,
     "metadata": {},
     "output_type": "execute_result"
    }
   ],
   "source": [
    "tempGP_model.fit(X_train, y_train, T_train)"
   ]
  },
  {
   "cell_type": "code",
   "execution_count": 14,
   "id": "efeaae1f",
   "metadata": {},
   "outputs": [
    {
     "data": {
      "text/plain": [
       "{'estimated_params': {'theta': array([3.11852561e+00, 1.83351052e+04, 6.74717717e-02, 1.83801035e+01,\n",
       "         7.24338755e-01]),\n",
       "  'sigma_f': 35.46046877052341,\n",
       "  'sigma_n': 7.943693018112761,\n",
       "  'beta': 39.25680201612717},\n",
       " 'obj_val': 3688.053324641213,\n",
       " 'grad_val': array([-3.39344602e-03, -3.57774043e-06, -2.86505990e-02,  3.71746482e-03,\n",
       "         2.87768252e-02, -5.77022770e-04,  1.14277483e-02,  8.85836697e-05])}"
      ]
     },
     "execution_count": 14,
     "metadata": {},
     "output_type": "execute_result"
    }
   ],
   "source": [
    "tempGP_model.optim_result"
   ]
  },
  {
   "cell_type": "markdown",
   "id": "8414b4f5",
   "metadata": {},
   "source": [
    "### Prediction of the trained model on test data"
   ]
  },
  {
   "cell_type": "code",
   "execution_count": 11,
   "id": "195b854e",
   "metadata": {
    "scrolled": true
   },
   "outputs": [
    {
     "name": "stderr",
     "output_type": "stream",
     "text": [
      "/opt/homebrew/Caskroom/miniforge/base/envs/condapy/lib/python3.9/site-packages/dswe/_tempGP_subroutine.py:136: UserWarning: While computing g(t), variance of the training residuals is numerically zero for time index: 1007\n",
      "Using mean of the response as the prediction.\n",
      "  warnings.warn(msg)\n"
     ]
    },
    {
     "data": {
      "text/plain": [
       "array([ 4.0459666 ,  4.40464012,  9.44481618,  6.17609005, -0.75181685,\n",
       "        3.78620895,  6.58819627, 34.74069966, 34.8998037 , 30.97122137,\n",
       "       32.03226257, 25.90162076, 22.36873523, 18.96230711, 22.4293234 ,\n",
       "       22.87721643, 23.80844095, 22.26114269, 21.35056548, 21.61960161,\n",
       "       37.05859067, 30.71979538, 21.04842788,  9.18296121,  4.54062832,\n",
       "       17.05520378,  9.53525276,  4.25834009,  9.81812407, 14.43241221,\n",
       "        1.90042274,  5.80092143, -0.26439276,  4.1983904 ,  8.14304619,\n",
       "        7.42413237, 11.18715881, 12.19316611,  7.31255284,  9.85662825,\n",
       "        7.09234157,  9.78267344,  6.07062223,  5.22846069,  5.92670577,\n",
       "        6.23043971,  2.86565141,  2.90150798,  3.88426525,  1.53587669,\n",
       "        5.02600095,  1.01439907, 11.10245664, 14.21745401, 14.7745186 ,\n",
       "       15.96334944, 11.71864018,  9.53665761,  7.43165577,  8.1238918 ,\n",
       "       20.60573181, 21.29406776, 30.53314763, 33.80740265, 29.55955759,\n",
       "       41.34566929, 21.24687707, 15.15947631, 39.07820688, 21.45615386,\n",
       "       19.6829178 , 13.6739339 , 18.14887151, 13.56572748, 15.18366611,\n",
       "       17.03476309, 20.67012693, 40.69007795, 35.64379488, 38.1757274 ,\n",
       "       29.72809674, 26.31485992, 31.2129356 , 38.40999003, 30.74615432,\n",
       "       32.08290441, 36.41739467, 24.9783363 , 24.83946058, 27.94733569,\n",
       "       29.94029704, 39.16913666, 33.26419739, 31.21879799, 25.72949135,\n",
       "       32.26038369, 24.90962601, 27.83081337, 29.83423577, 25.20307644])"
      ]
     },
     "execution_count": 11,
     "metadata": {},
     "output_type": "execute_result"
    }
   ],
   "source": [
    "prediction = tempGP_model.predict(X_test, T_test)\n",
    "prediction"
   ]
  },
  {
   "cell_type": "code",
   "execution_count": 16,
   "id": "eb9e74f1",
   "metadata": {},
   "outputs": [
    {
     "data": {
      "text/plain": [
       "7.840338833459012"
      ]
     },
     "execution_count": 16,
     "metadata": {},
     "output_type": "execute_result"
    }
   ],
   "source": [
    "np.abs(prediction - y_test).mean()"
   ]
  },
  {
   "cell_type": "markdown",
   "id": "2036f4cc",
   "metadata": {},
   "source": [
    "### Update the model on new data"
   ]
  },
  {
   "cell_type": "code",
   "execution_count": 17,
   "id": "9c205ba9",
   "metadata": {},
   "outputs": [
    {
     "data": {
      "text/plain": [
       "<dswe.tempGP.TempGP at 0x15324a580>"
      ]
     },
     "execution_count": 17,
     "metadata": {},
     "output_type": "execute_result"
    }
   ],
   "source": [
    "tempGP_model.update(X_update, y_update, T_update, replace=True, update_model_F=False)"
   ]
  },
  {
   "cell_type": "markdown",
   "id": "7b530b2c",
   "metadata": {},
   "source": [
    "### Prediction on new test data"
   ]
  },
  {
   "cell_type": "code",
   "execution_count": 18,
   "id": "16aea232",
   "metadata": {},
   "outputs": [],
   "source": [
    "X_test_new = df.iloc[1500:1600, 1:6].values\n",
    "y_test_new = df.iloc[1500:1600, 6].values\n",
    "T_test_new = df.iloc[1500:1600, 0].values"
   ]
  },
  {
   "cell_type": "code",
   "execution_count": 15,
   "id": "47ad174b",
   "metadata": {
    "scrolled": true
   },
   "outputs": [
    {
     "name": "stderr",
     "output_type": "stream",
     "text": [
      "/opt/homebrew/Caskroom/miniforge/base/envs/condapy/lib/python3.9/site-packages/dswe/_tempGP_subroutine.py:136: UserWarning: While computing g(t), variance of the training residuals is numerically zero for time index: 1507\n",
      "Using mean of the response as the prediction.\n",
      "  warnings.warn(msg)\n"
     ]
    },
    {
     "data": {
      "text/plain": [
       "array([-6.63115201e-01, -1.36622535e+00,  2.76094575e-02, -6.20623459e-01,\n",
       "        1.23222005e+00,  1.20407410e+00,  1.06702099e+00,  2.61315967e+00,\n",
       "        5.41365247e+00,  8.80487956e+00,  1.21038562e+01,  8.86563721e+00,\n",
       "        1.33592331e+01,  2.06333569e+01,  1.48553966e+01,  1.53722934e+01,\n",
       "        1.52613431e+01,  1.85707644e+01,  2.41553346e+01,  1.72462964e+01,\n",
       "        1.69547320e+01,  2.08939466e+01,  1.80184982e+01,  1.15510225e+01,\n",
       "        3.58331657e+00,  2.14452243e+00,  6.03746744e+00,  5.96626175e+00,\n",
       "        2.68406721e+00,  1.78310390e+00,  5.32866565e+00,  2.23369831e+00,\n",
       "        1.12774526e+01,  1.57748818e+01,  7.45173090e+00,  3.67702265e+00,\n",
       "        7.18767153e+00,  4.10484782e+00,  5.91547550e+00,  1.06123917e+01,\n",
       "        1.18466112e-01,  1.31619165e+00,  1.26557642e+00,  1.71794241e+00,\n",
       "        4.84798379e+00,  3.65633449e+00,  5.44142214e+00,  4.23437948e-01,\n",
       "        7.42701449e-01,  5.19514170e-01, -1.14411399e-01,  2.02261890e-01,\n",
       "        3.51505355e+00,  1.02709142e+01,  6.93645242e+00,  8.32963910e+00,\n",
       "        2.03592071e+01,  3.77621850e+01,  5.98162657e+01,  4.21835000e+01,\n",
       "        2.77321240e+01,  2.53396843e+01,  2.15438576e+01,  1.50120507e+01,\n",
       "        1.38259265e+01,  1.53036866e+01,  1.73331063e+01,  1.76933653e+01,\n",
       "        1.96170238e+01,  2.20676146e+01,  1.72107722e+01,  2.31844625e+01,\n",
       "        1.65599429e+01,  2.26590059e+01,  1.39472496e+01,  1.27575082e+01,\n",
       "        1.02465209e+01,  1.10777432e+01,  1.04512976e+01,  1.10706952e+01,\n",
       "        8.84582133e+00,  1.31032380e+01,  1.60755210e+01,  1.69119895e+01,\n",
       "        1.75762896e+01,  1.16660055e+01,  1.93609221e+01,  1.50893040e+01,\n",
       "        1.44927253e+01,  1.36598097e+01,  1.34721150e+01,  1.74548205e+01,\n",
       "        1.21731678e+01,  6.87871728e+00,  7.01198023e+00,  6.99812623e+00,\n",
       "        2.67616950e+00,  1.81294462e+01,  2.69954632e+01,  3.75057693e+01])"
      ]
     },
     "execution_count": 15,
     "metadata": {},
     "output_type": "execute_result"
    }
   ],
   "source": [
    "new_prediction = tempGP_model.predict(X_test_new, T_test_new)\n",
    "new_prediction"
   ]
  },
  {
   "cell_type": "code",
   "execution_count": 20,
   "id": "a08104d6",
   "metadata": {},
   "outputs": [
    {
     "data": {
      "text/plain": [
       "3.8142347429932277"
      ]
     },
     "execution_count": 20,
     "metadata": {},
     "output_type": "execute_result"
    }
   ],
   "source": [
    "np.abs(new_prediction - new_test_y).mean()"
   ]
  },
  {
   "cell_type": "code",
   "execution_count": null,
   "id": "3fe98f92",
   "metadata": {},
   "outputs": [],
   "source": []
  }
 ],
 "metadata": {
  "kernelspec": {
   "display_name": "Python 3 (ipykernel)",
   "language": "python",
   "name": "python3"
  },
  "language_info": {
   "codemirror_mode": {
    "name": "ipython",
    "version": 3
   },
   "file_extension": ".py",
   "mimetype": "text/x-python",
   "name": "python",
   "nbconvert_exporter": "python",
   "pygments_lexer": "ipython3",
   "version": "3.9.7"
  }
 },
 "nbformat": 4,
 "nbformat_minor": 5
}
