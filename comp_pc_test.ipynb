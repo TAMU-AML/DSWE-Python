{
 "cells": [
  {
   "cell_type": "code",
   "execution_count": 1,
   "metadata": {},
   "outputs": [],
   "source": [
    "import numpy as np\n",
    "import pandas as pd\n",
    "import json\n",
    "import matplotlib.pyplot as plt\n",
    "\n",
    "from dswe.comparePCurve import ComparePCurve\n",
    "from dswe.funGP import FunGP\n",
    "from dswe.covmatch import CovMatch\n",
    "from dswe._comparePCurve_subroutine import generate_test_set, compute_weighted_diff"
   ]
  },
  {
   "cell_type": "code",
   "execution_count": 2,
   "metadata": {},
   "outputs": [],
   "source": [
    "vg = pd.read_csv('../../Downloads/DS/Turbine_Upgrade_Dataset/Turbine Upgrade Dataset(VG Pair).csv')\n",
    "\n",
    "xcol = [3,4,5,6]\n",
    "circ_pos = [1]\n",
    "testcol = [0,1]\n",
    "grid_size = [50,50]"
   ]
  },
  {
   "cell_type": "code",
   "execution_count": 3,
   "metadata": {},
   "outputs": [],
   "source": [
    "Xlist = [vg[vg['upgrade status'] == 0].to_numpy()[:,xcol].astype(float), vg[vg['upgrade status'] == 1].to_numpy()[:,xcol].astype(float)]\n",
    "ylist = [vg[vg['upgrade status'] == 0].to_numpy()[:,10].astype(float), vg[vg['upgrade status'] == 1].to_numpy()[:,10].astype(float)]"
   ]
  },
  {
   "cell_type": "code",
   "execution_count": 4,
   "metadata": {},
   "outputs": [],
   "source": [
    "result_matching = CovMatch(Xlist, ylist, circ_pos)\n",
    "matched_data_X = result_matching.matched_data_X\n",
    "matched_data_y = result_matching.matched_data_y"
   ]
  },
  {
   "cell_type": "code",
   "execution_count": 5,
   "metadata": {},
   "outputs": [],
   "source": [
    "# result_matching = json.load(open('../../Downloads/DSWE-Package/testing/matchedData.json'))\n",
    "# result_matching[0] = pd.DataFrame(result_matching[0])\n",
    "# result_matching[1] = pd.DataFrame(result_matching[1])\n",
    "# matched_data_X = [result_matching[0].iloc[:,xcol].values, result_matching[1].iloc[:,xcol].values]\n",
    "# matched_data_y = [result_matching[0].iloc[:,10].values, result_matching[1].iloc[:,10].values]"
   ]
  },
  {
   "cell_type": "code",
   "execution_count": 6,
   "metadata": {},
   "outputs": [],
   "source": [
    "testset = generate_test_set(matched_data_X, testcol, grid_size)"
   ]
  },
  {
   "cell_type": "code",
   "execution_count": 7,
   "metadata": {},
   "outputs": [],
   "source": [
    "# testset = pd.read_csv('../../Downloads/DSWE-Package/testing/testset.csv')\n",
    "# testset =  testset.values"
   ]
  },
  {
   "cell_type": "code",
   "execution_count": 8,
   "metadata": {},
   "outputs": [],
   "source": [
    "optim_idx = json.load(open('../../Downloads/DSWE-Package/testing/optimIdx.json'))\n",
    "band_idx = json.load(open('../../Downloads/DSWE-Package/testing/bandIdx.json'))\n",
    "estimated_params = json.load(open('../../Downloads/DSWE-Package/testing/estimatedParams.json'))\n",
    "\n",
    "## to start index with 0\n",
    "for i in range(len(optim_idx)):\n",
    "    if optim_idx[i] is not None:\n",
    "        for j in range(len(optim_idx[i])):\n",
    "            optim_idx[i][j] = optim_idx[i][j] - 1\n",
    "for i in range(len(band_idx)):\n",
    "    if band_idx[i] is not None:\n",
    "        for j in range(len(band_idx[i])):\n",
    "            band_idx[i][j] = band_idx[i][j] - 1"
   ]
  },
  {
   "cell_type": "code",
   "execution_count": 9,
   "metadata": {},
   "outputs": [],
   "source": [
    "_mdata_X = [matched_data_X[0][:, testcol], matched_data_X[1][:, testcol]]\n",
    "_mdata_y = [matched_data_y[0], matched_data_y[1]]\n",
    "result_GP = FunGP(_mdata_X, _mdata_y, testset, conf_level=0.95,\n",
    "                    limit_memory=True, opt_method='L-BFGS-B', sample_size={'optim_size': 500, 'band_size': 5000}, rng_seed=1, optim_idx=optim_idx, band_idx=band_idx, params=estimated_params)"
   ]
  },
  {
   "cell_type": "code",
   "execution_count": 10,
   "metadata": {},
   "outputs": [
    {
     "data": {
      "text/plain": [
       "5.3"
      ]
     },
     "execution_count": 10,
     "metadata": {},
     "output_type": "execute_result"
    }
   ],
   "source": [
    "compute_weighted_diff(Xlist, result_GP.mu1, result_GP.mu2, testset, testcol, baseline=1)"
   ]
  },
  {
   "cell_type": "code",
   "execution_count": null,
   "metadata": {},
   "outputs": [],
   "source": []
  }
 ],
 "metadata": {
  "interpreter": {
   "hash": "967c564a01867f0f436712dde72deb86cc3132cc823789aeffdae4794d2fc619"
  },
  "kernelspec": {
   "display_name": "Python 3.9.7 ('condapy')",
   "language": "python",
   "name": "python3"
  },
  "language_info": {
   "codemirror_mode": {
    "name": "ipython",
    "version": 3
   },
   "file_extension": ".py",
   "mimetype": "text/x-python",
   "name": "python",
   "nbconvert_exporter": "python",
   "pygments_lexer": "ipython3",
   "version": "3.9.7"
  },
  "orig_nbformat": 4
 },
 "nbformat": 4,
 "nbformat_minor": 2
}
